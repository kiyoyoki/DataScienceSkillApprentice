{
 "cells": [
  {
   "cell_type": "markdown",
   "id": "77e541c9",
   "metadata": {},
   "source": [
    "# 欠損値とは何かを理解し，対応方法を知る(2022/03/17)"
   ]
  },
  {
   "cell_type": "markdown",
   "id": "9e28795d",
   "metadata": {},
   "source": [
    "## 概要\n",
    "---\n",
    "\n",
    "本notebookでは，データ分析の前段階で発生する欠損データ・欠損値について調査し，それらへの対処方法を知ることを目的とする．データの欠損に対する基本的な立場は2つあり「なぜデータが欠損したか」という視点と，「欠損したデータをどう扱うか」という視点である．\n",
    "\n",
    "「なぜデータが欠損したのか」という問いに対する答えは個々の事例によって変わってくるので，今回主として取り上げるのは「欠損したデータをどう扱うか」という点になる．ただし後者において選択する対処方法もデータ欠損の原因と密接に関わっていることから，本notebookで調査できる範囲も一般論的な薄いものになる．\n",
    "\n",
    "欠損データ(欠測データ)処理は，当該領域だけでも専門書が一冊書ける深長なものらしい．筆者も適当なものを一冊読む予定だ．"
   ]
  },
  {
   "cell_type": "markdown",
   "id": "1d11cb81",
   "metadata": {},
   "source": [
    "## 欠損値(missing value)\n",
    "---\n",
    "\n",
    "欠損値(missing value)とは，欠測データ，欠落データとも呼ばれ，本来格納されるはずの変数に値が入っていないことを指す．実装ではNaNであったり，nullとして表現されることが多いだろう．\n",
    "\n",
    "事象を観測することで得られるはずのデータが得られていない，ということであるから，欠損値に対して適切な対処をしないと分析結果に影響を及ぼす．欠損値の取り扱いについては様々な方法があるが，基本は「何かの値で埋める」か「当該データ・属性を削除(無視)する」か「そもそも欠損値の影響を受けづらい頑健な分析手法を用いる」かのいずれかに大別される．\n",
    "\n",
    "欠損値が発生する原因は様々ある．例えば，アンケート調査における無回答や，調査データの転記忘れ，調査参加者の脱落などが挙げられる．\n",
    "\n",
    "欠損値はその発生パターンに応じて，以下の3種類に分類できる．"
   ]
  },
  {
   "cell_type": "markdown",
   "id": "4f319bdf",
   "metadata": {},
   "source": [
    "### 完全にランダムな欠測(Missing Completely At Random; MCAR)\n",
    "\n",
    "MCARはその名の通り，欠損値の発生タイミングが完全にランダムであることを指す．この場合は標本を十分な数で無作為抽出すれば，推論・推定が歪められることはない．しかし現実問題として，特定の原因に依存せず独立して欠損値が発生する事例というは極めてまれである．"
   ]
  },
  {
   "cell_type": "markdown",
   "id": "7bf1344c",
   "metadata": {},
   "source": [
    "### ランダムな欠測(Missing At Random; MAR)\n",
    "\n",
    "MARは欠損値の発生タイミングが完全にランダムというわけではないが，欠損していない他の変数を用いてデータの欠落を完全に説明できる場合を指す．\n",
    "\n",
    "現実の事象では欠損原因を完全に説明することは難しいので，原因だと考えられる属性で層別し，欠測発生のタイミングがランダムに近づかないかを考えることもあるらしい．"
   ]
  },
  {
   "cell_type": "markdown",
   "id": "6ef0d456",
   "metadata": {},
   "source": [
    "### ランダムではない欠測(Missing Not At Random; MNAR)\n",
    "\n",
    "MNARはMCARやMARではないデータの欠損のことである．データ欠落の発生がランダムではなく，何かしらの原因が考えられることから「無視できない無回答」と呼ばれる．\n",
    "\n",
    "MCARやMARと比較して，MNARを適切に処理しないと誤った結論を導く可能性が高い．\n",
    "\n",
    "MNARの印象としては，原因だと思われる変数(属性)で層別し，MARとみなせないか考えるのが大切なような気がする．例えば，男女間でデータの欠測率に差があると考えられる場合，男性と女性の回答データを分けて考えることで，それぞれの集合ではデータの欠測はMARだとみなせる．"
   ]
  },
  {
   "cell_type": "markdown",
   "id": "3397e8f7",
   "metadata": {},
   "source": [
    "## 欠損値への対処方法\n",
    "---\n",
    "\n",
    "本節では，欠損値への対処方法として「当該データ・属性を削除(無視)する」方法と「何かの値で埋める」方法の代表的な手法を説明する．"
   ]
  },
  {
   "cell_type": "markdown",
   "id": "95e8bd77",
   "metadata": {},
   "source": [
    "### リストワイズ削除・完全ケース削除\n",
    "この手法は欠損値を含む標本を分析前にすべて削除する手法である．MCARでない限りは標本データの偏りは必至なので，分析結果への影響を注意する必要がある．\n",
    "\n",
    "ただし，処理が非常に単純であることから，後に紹介するペアワイズ削除よりも広く用いられているらしい．pandasではdropnaメソッドとして実装されている．"
   ]
  },
  {
   "cell_type": "code",
   "execution_count": 1,
   "id": "de936847",
   "metadata": {},
   "outputs": [
    {
     "name": "stdout",
     "output_type": "stream",
     "text": [
      "0    1.2\n",
      "1    3.4\n",
      "2    5.6\n",
      "3    NaN\n",
      "4    7.8\n",
      "dtype: float64\n",
      "0    1.2\n",
      "1    3.4\n",
      "2    5.6\n",
      "4    7.8\n",
      "dtype: float64\n"
     ]
    }
   ],
   "source": [
    "# リストワイズ削除\n",
    "import pandas as pd\n",
    "import numpy as np\n",
    "\n",
    "series = pd.Series([1.2, 3.4, 5.6, np.nan, 7.8])\n",
    "print(series)\n",
    "\n",
    "series.dropna(inplace=True)\n",
    "print(series)"
   ]
  },
  {
   "cell_type": "markdown",
   "id": "3c511c6b",
   "metadata": {},
   "source": [
    "### ペアワイズ削除\n",
    "\n",
    "ペアワイズ削除はリストワイズ削除とは異なり，分析に使わない属性(変数)が欠落していた場合は，そのデータは削除せずに残す．分析によって用いる属性の組み合わせが異なれば，削除される標本数も異なる．\n",
    "\n",
    "以下のDataFrameを用いた例では，生年月日の属性bornを分析に使わない属性だと仮定し，欠損値があってもデータを残している．分析とは関係のない変数(属性)の欠損値によってデータが削除されるのをできるだけ防ぐ意図が見て取れる．"
   ]
  },
  {
   "cell_type": "code",
   "execution_count": 2,
   "id": "a0eea93a",
   "metadata": {},
   "outputs": [
    {
     "data": {
      "text/html": [
       "<div>\n",
       "<style scoped>\n",
       "    .dataframe tbody tr th:only-of-type {\n",
       "        vertical-align: middle;\n",
       "    }\n",
       "\n",
       "    .dataframe tbody tr th {\n",
       "        vertical-align: top;\n",
       "    }\n",
       "\n",
       "    .dataframe thead th {\n",
       "        text-align: right;\n",
       "    }\n",
       "</style>\n",
       "<table border=\"1\" class=\"dataframe\">\n",
       "  <thead>\n",
       "    <tr style=\"text-align: right;\">\n",
       "      <th></th>\n",
       "      <th>name</th>\n",
       "      <th>toy</th>\n",
       "      <th>born</th>\n",
       "    </tr>\n",
       "  </thead>\n",
       "  <tbody>\n",
       "    <tr>\n",
       "      <th>0</th>\n",
       "      <td>Alfred</td>\n",
       "      <td>NaN</td>\n",
       "      <td>NaT</td>\n",
       "    </tr>\n",
       "    <tr>\n",
       "      <th>1</th>\n",
       "      <td>Batman</td>\n",
       "      <td>Batmobile</td>\n",
       "      <td>1940-04-25</td>\n",
       "    </tr>\n",
       "    <tr>\n",
       "      <th>2</th>\n",
       "      <td>Catwoman</td>\n",
       "      <td>Bullwhip</td>\n",
       "      <td>NaT</td>\n",
       "    </tr>\n",
       "  </tbody>\n",
       "</table>\n",
       "</div>"
      ],
      "text/plain": [
       "       name        toy       born\n",
       "0    Alfred        NaN        NaT\n",
       "1    Batman  Batmobile 1940-04-25\n",
       "2  Catwoman   Bullwhip        NaT"
      ]
     },
     "execution_count": 2,
     "metadata": {},
     "output_type": "execute_result"
    }
   ],
   "source": [
    "# ペアワイズ削除\n",
    "df = pd.DataFrame({\"name\": ['Alfred', 'Batman', 'Catwoman'],\n",
    "                   \"toy\": [np.nan, 'Batmobile', 'Bullwhip'],\n",
    "                   \"born\": [pd.NaT, pd.Timestamp(\"1940-04-25\"),\n",
    "                            pd.NaT]})\n",
    "df"
   ]
  },
  {
   "cell_type": "code",
   "execution_count": 3,
   "id": "a5b5fabc",
   "metadata": {},
   "outputs": [
    {
     "data": {
      "text/html": [
       "<div>\n",
       "<style scoped>\n",
       "    .dataframe tbody tr th:only-of-type {\n",
       "        vertical-align: middle;\n",
       "    }\n",
       "\n",
       "    .dataframe tbody tr th {\n",
       "        vertical-align: top;\n",
       "    }\n",
       "\n",
       "    .dataframe thead th {\n",
       "        text-align: right;\n",
       "    }\n",
       "</style>\n",
       "<table border=\"1\" class=\"dataframe\">\n",
       "  <thead>\n",
       "    <tr style=\"text-align: right;\">\n",
       "      <th></th>\n",
       "      <th>name</th>\n",
       "      <th>toy</th>\n",
       "      <th>born</th>\n",
       "    </tr>\n",
       "  </thead>\n",
       "  <tbody>\n",
       "    <tr>\n",
       "      <th>1</th>\n",
       "      <td>Batman</td>\n",
       "      <td>Batmobile</td>\n",
       "      <td>1940-04-25</td>\n",
       "    </tr>\n",
       "    <tr>\n",
       "      <th>2</th>\n",
       "      <td>Catwoman</td>\n",
       "      <td>Bullwhip</td>\n",
       "      <td>NaT</td>\n",
       "    </tr>\n",
       "  </tbody>\n",
       "</table>\n",
       "</div>"
      ],
      "text/plain": [
       "       name        toy       born\n",
       "1    Batman  Batmobile 1940-04-25\n",
       "2  Catwoman   Bullwhip        NaT"
      ]
     },
     "execution_count": 3,
     "metadata": {},
     "output_type": "execute_result"
    }
   ],
   "source": [
    "# 分析に必要な属性をサブセットとして指定する\n",
    "df.dropna(subset=['name', 'toy'], inplace=True)\n",
    "df"
   ]
  },
  {
   "cell_type": "markdown",
   "id": "debaa9af",
   "metadata": {},
   "source": [
    "### ホットデッキ代入法\n",
    "\n",
    "ホットデッキ代入法は欠損値を埋める代入法の一種であり，他の類似した標本から値をそのまま代入するという手法である．\n",
    "\n",
    "ホットデッキ代入法の一種であるLOCF(Last Observation Carried Forward)では，ソートしたデータにおいて欠損値の直前の値を代入する．例えば時系列データであれば，微小時間前後で観測される値に大きな差はないと考えられるため，有効かもしれない．ただしLOCFはバイアス増大の懸念があるため推奨されていないらしい．\n",
    "\n",
    "ホットデッキ代入法の発展として，コールドデッキ代入法という手法がある．こちらはバイアスの増大を抑えるために，同一のデータセットではなく類似した過去の調査結果から値を代入するという手法である．\n",
    "\n",
    "pandasではfillnaメソッドを使うことでLOCFを再現できる．"
   ]
  },
  {
   "cell_type": "code",
   "execution_count": 4,
   "id": "0b084275",
   "metadata": {},
   "outputs": [
    {
     "data": {
      "text/html": [
       "<div>\n",
       "<style scoped>\n",
       "    .dataframe tbody tr th:only-of-type {\n",
       "        vertical-align: middle;\n",
       "    }\n",
       "\n",
       "    .dataframe tbody tr th {\n",
       "        vertical-align: top;\n",
       "    }\n",
       "\n",
       "    .dataframe thead th {\n",
       "        text-align: right;\n",
       "    }\n",
       "</style>\n",
       "<table border=\"1\" class=\"dataframe\">\n",
       "  <thead>\n",
       "    <tr style=\"text-align: right;\">\n",
       "      <th></th>\n",
       "      <th>0</th>\n",
       "      <th>1</th>\n",
       "      <th>2</th>\n",
       "      <th>3</th>\n",
       "      <th>4</th>\n",
       "    </tr>\n",
       "  </thead>\n",
       "  <tbody>\n",
       "    <tr>\n",
       "      <th>0</th>\n",
       "      <td>1.764052</td>\n",
       "      <td>0.400157</td>\n",
       "      <td>0.978738</td>\n",
       "      <td>2.240893</td>\n",
       "      <td>1.867558</td>\n",
       "    </tr>\n",
       "    <tr>\n",
       "      <th>1</th>\n",
       "      <td>-0.977278</td>\n",
       "      <td>0.950088</td>\n",
       "      <td>-0.151357</td>\n",
       "      <td>NaN</td>\n",
       "      <td>0.410599</td>\n",
       "    </tr>\n",
       "    <tr>\n",
       "      <th>2</th>\n",
       "      <td>0.144044</td>\n",
       "      <td>1.454274</td>\n",
       "      <td>0.761038</td>\n",
       "      <td>0.121675</td>\n",
       "      <td>NaN</td>\n",
       "    </tr>\n",
       "    <tr>\n",
       "      <th>3</th>\n",
       "      <td>0.333674</td>\n",
       "      <td>NaN</td>\n",
       "      <td>-0.205158</td>\n",
       "      <td>0.313068</td>\n",
       "      <td>-0.854096</td>\n",
       "    </tr>\n",
       "    <tr>\n",
       "      <th>4</th>\n",
       "      <td>-2.552990</td>\n",
       "      <td>0.653619</td>\n",
       "      <td>0.864436</td>\n",
       "      <td>-0.742165</td>\n",
       "      <td>2.269755</td>\n",
       "    </tr>\n",
       "  </tbody>\n",
       "</table>\n",
       "</div>"
      ],
      "text/plain": [
       "          0         1         2         3         4\n",
       "0  1.764052  0.400157  0.978738  2.240893  1.867558\n",
       "1 -0.977278  0.950088 -0.151357       NaN  0.410599\n",
       "2  0.144044  1.454274  0.761038  0.121675       NaN\n",
       "3  0.333674       NaN -0.205158  0.313068 -0.854096\n",
       "4 -2.552990  0.653619  0.864436 -0.742165  2.269755"
      ]
     },
     "execution_count": 4,
     "metadata": {},
     "output_type": "execute_result"
    }
   ],
   "source": [
    "# 欠損値を持つ適当なDataFrameを作成\n",
    "np.random.seed(0)\n",
    "df = pd.DataFrame(np.random.randn(5,5))\n",
    "df.iloc[1,3] = np.nan\n",
    "df.iloc[2,4] = np.nan\n",
    "df.iloc[3,1] = np.nan\n",
    "df"
   ]
  },
  {
   "cell_type": "code",
   "execution_count": 5,
   "id": "2c0951db",
   "metadata": {},
   "outputs": [
    {
     "data": {
      "text/html": [
       "<div>\n",
       "<style scoped>\n",
       "    .dataframe tbody tr th:only-of-type {\n",
       "        vertical-align: middle;\n",
       "    }\n",
       "\n",
       "    .dataframe tbody tr th {\n",
       "        vertical-align: top;\n",
       "    }\n",
       "\n",
       "    .dataframe thead th {\n",
       "        text-align: right;\n",
       "    }\n",
       "</style>\n",
       "<table border=\"1\" class=\"dataframe\">\n",
       "  <thead>\n",
       "    <tr style=\"text-align: right;\">\n",
       "      <th></th>\n",
       "      <th>0</th>\n",
       "      <th>1</th>\n",
       "      <th>2</th>\n",
       "      <th>3</th>\n",
       "      <th>4</th>\n",
       "    </tr>\n",
       "  </thead>\n",
       "  <tbody>\n",
       "    <tr>\n",
       "      <th>0</th>\n",
       "      <td>1.764052</td>\n",
       "      <td>0.400157</td>\n",
       "      <td>0.978738</td>\n",
       "      <td>2.240893</td>\n",
       "      <td>1.867558</td>\n",
       "    </tr>\n",
       "    <tr>\n",
       "      <th>1</th>\n",
       "      <td>-0.977278</td>\n",
       "      <td>0.950088</td>\n",
       "      <td>-0.151357</td>\n",
       "      <td>2.240893</td>\n",
       "      <td>0.410599</td>\n",
       "    </tr>\n",
       "    <tr>\n",
       "      <th>2</th>\n",
       "      <td>0.144044</td>\n",
       "      <td>1.454274</td>\n",
       "      <td>0.761038</td>\n",
       "      <td>0.121675</td>\n",
       "      <td>0.410599</td>\n",
       "    </tr>\n",
       "    <tr>\n",
       "      <th>3</th>\n",
       "      <td>0.333674</td>\n",
       "      <td>1.454274</td>\n",
       "      <td>-0.205158</td>\n",
       "      <td>0.313068</td>\n",
       "      <td>-0.854096</td>\n",
       "    </tr>\n",
       "    <tr>\n",
       "      <th>4</th>\n",
       "      <td>-2.552990</td>\n",
       "      <td>0.653619</td>\n",
       "      <td>0.864436</td>\n",
       "      <td>-0.742165</td>\n",
       "      <td>2.269755</td>\n",
       "    </tr>\n",
       "  </tbody>\n",
       "</table>\n",
       "</div>"
      ],
      "text/plain": [
       "          0         1         2         3         4\n",
       "0  1.764052  0.400157  0.978738  2.240893  1.867558\n",
       "1 -0.977278  0.950088 -0.151357  2.240893  0.410599\n",
       "2  0.144044  1.454274  0.761038  0.121675  0.410599\n",
       "3  0.333674  1.454274 -0.205158  0.313068 -0.854096\n",
       "4 -2.552990  0.653619  0.864436 -0.742165  2.269755"
      ]
     },
     "execution_count": 5,
     "metadata": {},
     "output_type": "execute_result"
    }
   ],
   "source": [
    "# LOCF\n",
    "df.fillna(method='ffill', inplace=True)\n",
    "df"
   ]
  },
  {
   "cell_type": "markdown",
   "id": "2f2e26cf",
   "metadata": {},
   "source": [
    "### 平均値代入法\n",
    "\n",
    "平均値代入法では，その名の通り標本平均を欠損値に代入することで補完する．標本平均が変わらないというメリットがある一方，単一の値で埋めることになるので相関の低下が起こる．\n",
    "\n",
    "平均値代入法も，pandasのfillnaメソッドを用いて実装できる．"
   ]
  },
  {
   "cell_type": "code",
   "execution_count": 6,
   "id": "a5ba1173",
   "metadata": {},
   "outputs": [
    {
     "data": {
      "text/html": [
       "<div>\n",
       "<style scoped>\n",
       "    .dataframe tbody tr th:only-of-type {\n",
       "        vertical-align: middle;\n",
       "    }\n",
       "\n",
       "    .dataframe tbody tr th {\n",
       "        vertical-align: top;\n",
       "    }\n",
       "\n",
       "    .dataframe thead th {\n",
       "        text-align: right;\n",
       "    }\n",
       "</style>\n",
       "<table border=\"1\" class=\"dataframe\">\n",
       "  <thead>\n",
       "    <tr style=\"text-align: right;\">\n",
       "      <th></th>\n",
       "      <th>0</th>\n",
       "      <th>1</th>\n",
       "      <th>2</th>\n",
       "      <th>3</th>\n",
       "      <th>4</th>\n",
       "    </tr>\n",
       "  </thead>\n",
       "  <tbody>\n",
       "    <tr>\n",
       "      <th>0</th>\n",
       "      <td>1.764052</td>\n",
       "      <td>0.400157</td>\n",
       "      <td>0.978738</td>\n",
       "      <td>2.240893</td>\n",
       "      <td>1.867558</td>\n",
       "    </tr>\n",
       "    <tr>\n",
       "      <th>1</th>\n",
       "      <td>-0.977278</td>\n",
       "      <td>0.950088</td>\n",
       "      <td>-0.151357</td>\n",
       "      <td>NaN</td>\n",
       "      <td>0.410599</td>\n",
       "    </tr>\n",
       "    <tr>\n",
       "      <th>2</th>\n",
       "      <td>0.144044</td>\n",
       "      <td>1.454274</td>\n",
       "      <td>0.761038</td>\n",
       "      <td>0.121675</td>\n",
       "      <td>NaN</td>\n",
       "    </tr>\n",
       "    <tr>\n",
       "      <th>3</th>\n",
       "      <td>0.333674</td>\n",
       "      <td>NaN</td>\n",
       "      <td>-0.205158</td>\n",
       "      <td>0.313068</td>\n",
       "      <td>-0.854096</td>\n",
       "    </tr>\n",
       "    <tr>\n",
       "      <th>4</th>\n",
       "      <td>-2.552990</td>\n",
       "      <td>0.653619</td>\n",
       "      <td>0.864436</td>\n",
       "      <td>-0.742165</td>\n",
       "      <td>2.269755</td>\n",
       "    </tr>\n",
       "  </tbody>\n",
       "</table>\n",
       "</div>"
      ],
      "text/plain": [
       "          0         1         2         3         4\n",
       "0  1.764052  0.400157  0.978738  2.240893  1.867558\n",
       "1 -0.977278  0.950088 -0.151357       NaN  0.410599\n",
       "2  0.144044  1.454274  0.761038  0.121675       NaN\n",
       "3  0.333674       NaN -0.205158  0.313068 -0.854096\n",
       "4 -2.552990  0.653619  0.864436 -0.742165  2.269755"
      ]
     },
     "execution_count": 6,
     "metadata": {},
     "output_type": "execute_result"
    }
   ],
   "source": [
    "# 欠損値を持つ適当なDataFrameを作成\n",
    "np.random.seed(0)\n",
    "df = pd.DataFrame(np.random.randn(5,5))\n",
    "df.iloc[1,3] = np.nan\n",
    "df.iloc[2,4] = np.nan\n",
    "df.iloc[3,1] = np.nan\n",
    "df"
   ]
  },
  {
   "cell_type": "code",
   "execution_count": 7,
   "id": "d5c0f8fd",
   "metadata": {},
   "outputs": [
    {
     "data": {
      "text/plain": [
       "0   -0.257699\n",
       "1    0.864534\n",
       "2    0.449539\n",
       "3    0.483368\n",
       "4    0.923454\n",
       "dtype: float64"
      ]
     },
     "execution_count": 7,
     "metadata": {},
     "output_type": "execute_result"
    }
   ],
   "source": [
    "df.mean()"
   ]
  },
  {
   "cell_type": "code",
   "execution_count": 8,
   "id": "7a33f9f6",
   "metadata": {},
   "outputs": [
    {
     "data": {
      "text/html": [
       "<div>\n",
       "<style scoped>\n",
       "    .dataframe tbody tr th:only-of-type {\n",
       "        vertical-align: middle;\n",
       "    }\n",
       "\n",
       "    .dataframe tbody tr th {\n",
       "        vertical-align: top;\n",
       "    }\n",
       "\n",
       "    .dataframe thead th {\n",
       "        text-align: right;\n",
       "    }\n",
       "</style>\n",
       "<table border=\"1\" class=\"dataframe\">\n",
       "  <thead>\n",
       "    <tr style=\"text-align: right;\">\n",
       "      <th></th>\n",
       "      <th>0</th>\n",
       "      <th>1</th>\n",
       "      <th>2</th>\n",
       "      <th>3</th>\n",
       "      <th>4</th>\n",
       "    </tr>\n",
       "  </thead>\n",
       "  <tbody>\n",
       "    <tr>\n",
       "      <th>0</th>\n",
       "      <td>1.764052</td>\n",
       "      <td>0.400157</td>\n",
       "      <td>0.978738</td>\n",
       "      <td>2.240893</td>\n",
       "      <td>1.867558</td>\n",
       "    </tr>\n",
       "    <tr>\n",
       "      <th>1</th>\n",
       "      <td>-0.977278</td>\n",
       "      <td>0.950088</td>\n",
       "      <td>-0.151357</td>\n",
       "      <td>0.483368</td>\n",
       "      <td>0.410599</td>\n",
       "    </tr>\n",
       "    <tr>\n",
       "      <th>2</th>\n",
       "      <td>0.144044</td>\n",
       "      <td>1.454274</td>\n",
       "      <td>0.761038</td>\n",
       "      <td>0.121675</td>\n",
       "      <td>0.923454</td>\n",
       "    </tr>\n",
       "    <tr>\n",
       "      <th>3</th>\n",
       "      <td>0.333674</td>\n",
       "      <td>0.864534</td>\n",
       "      <td>-0.205158</td>\n",
       "      <td>0.313068</td>\n",
       "      <td>-0.854096</td>\n",
       "    </tr>\n",
       "    <tr>\n",
       "      <th>4</th>\n",
       "      <td>-2.552990</td>\n",
       "      <td>0.653619</td>\n",
       "      <td>0.864436</td>\n",
       "      <td>-0.742165</td>\n",
       "      <td>2.269755</td>\n",
       "    </tr>\n",
       "  </tbody>\n",
       "</table>\n",
       "</div>"
      ],
      "text/plain": [
       "          0         1         2         3         4\n",
       "0  1.764052  0.400157  0.978738  2.240893  1.867558\n",
       "1 -0.977278  0.950088 -0.151357  0.483368  0.410599\n",
       "2  0.144044  1.454274  0.761038  0.121675  0.923454\n",
       "3  0.333674  0.864534 -0.205158  0.313068 -0.854096\n",
       "4 -2.552990  0.653619  0.864436 -0.742165  2.269755"
      ]
     },
     "execution_count": 8,
     "metadata": {},
     "output_type": "execute_result"
    }
   ],
   "source": [
    "# 平均値代入法\n",
    "df.fillna(df.mean(), inplace=True)\n",
    "df"
   ]
  },
  {
   "cell_type": "code",
   "execution_count": 9,
   "id": "699f41b9",
   "metadata": {},
   "outputs": [
    {
     "data": {
      "text/plain": [
       "0   -0.257699\n",
       "1    0.864534\n",
       "2    0.449539\n",
       "3    0.483368\n",
       "4    0.923454\n",
       "dtype: float64"
      ]
     },
     "execution_count": 9,
     "metadata": {},
     "output_type": "execute_result"
    }
   ],
   "source": [
    "# 標本平均が変わっていないことを確認\n",
    "df.mean()"
   ]
  },
  {
   "cell_type": "markdown",
   "id": "228e9606",
   "metadata": {},
   "source": [
    "以上のようなシンプルな方法の他にも，回帰モデルを応用した手法など，バイアスを抑えるために様々な代入法が提案されている．"
   ]
  },
  {
   "cell_type": "markdown",
   "id": "f8175cf1",
   "metadata": {},
   "source": [
    "## 参考文献\n",
    "---\n",
    "\n",
    "[欠測データ，Wikipedia](https://ja.wikipedia.org/wiki/%E6%AC%A0%E6%B8%AC%E3%83%87%E3%83%BC%E3%82%BF)\n",
    "\n",
    "[代入法(統計学)，Wikipedia](https://ja.wikipedia.org/wiki/%E4%BB%A3%E5%85%A5%E6%B3%95_(%E7%B5%B1%E8%A8%88%E5%AD%A6))\n",
    "\n",
    "[欠損値とは？Pythonを使って欠損値の処理方法と実装を徹底解説【機械学習 入門編】，codExa](https://www.codexa.net/missing_value_python/)\n",
    "\n",
    "[欠損データの処理，Practical Data Science with R and Python](https://uribo.github.io/practical-ds/03/handling-missing-data.html)\n",
    "\n",
    "[欠損値の対処法，統計WEB](https://bellcurve.jp/statistics/blog/14238.html)\n",
    "\n",
    "[欠損値の処理，PyQドキュメント](https://docs.pyq.jp/python/pydata/nan.html)"
   ]
  }
 ],
 "metadata": {
  "kernelspec": {
   "display_name": "Python 3 (ipykernel)",
   "language": "python",
   "name": "python3"
  },
  "language_info": {
   "codemirror_mode": {
    "name": "ipython",
    "version": 3
   },
   "file_extension": ".py",
   "mimetype": "text/x-python",
   "name": "python",
   "nbconvert_exporter": "python",
   "pygments_lexer": "ipython3",
   "version": "3.8.10"
  }
 },
 "nbformat": 4,
 "nbformat_minor": 5
}
