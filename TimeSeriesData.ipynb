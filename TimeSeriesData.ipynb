{
 "cells": [
  {
   "cell_type": "markdown",
   "id": "41bd5b43",
   "metadata": {},
   "source": [
    "# 時系列データとは何か，その基本的な取り扱いについて調べる(2022/01/25)\n",
    "---\n",
    "## 概要\n",
    "---\n",
    "データの形式の一つである時系列データについて，その特性・分析手法(トレンド，周期性，移動平均，季節調整，ノイズ，階差，スペクトル，自己相関，相互相関，自己回帰モデル)について調べる．\n",
    "\n",
    "## 時系列データ\n",
    "---\n"
   ]
  },
  {
   "cell_type": "markdown",
   "id": "2884edb0",
   "metadata": {},
   "source": [
    "## 参考文献\n",
    "\n",
    "[時系列，Wikipedia](https://ja.wikipedia.org/wiki/%E6%99%82%E7%B3%BB%E5%88%97)\n",
    "\n",
    "[時系列データの解析，東京大学　数理・情報教育研究センター](http://www.mi.u-tokyo.ac.jp/consortium2/pdf/4-4_literacy_level_note.pdf)\n",
    "\n",
    "[32-3. 時系列データと移動平均，統計WEB](https://bellcurve.jp/statistics/course/12933.html)\n",
    "\n",
    "[32-4. 時系列データにおける周期変動，統計WEB](https://bellcurve.jp/statistics/course/23739.html)\n",
    "\n",
    "[32-5. 自己相関，統計WEB](https://bellcurve.jp/statistics/course/12935.html)\n",
    "\n",
    "[【テックコラム】時系列データの基礎と可視化，DataCurrent](https://www.datacurrent.co.jp/column/time-series-visualization20210628/)\n",
    "\n",
    "[時系列相関，株式会社アイスタット](https://istat.co.jp/ji_commentary/time_series)"
   ]
  }
 ],
 "metadata": {
  "kernelspec": {
   "display_name": "Python 3 (ipykernel)",
   "language": "python",
   "name": "python3"
  },
  "language_info": {
   "codemirror_mode": {
    "name": "ipython",
    "version": 3
   },
   "file_extension": ".py",
   "mimetype": "text/x-python",
   "name": "python",
   "nbconvert_exporter": "python",
   "pygments_lexer": "ipython3",
   "version": "3.8.10"
  }
 },
 "nbformat": 4,
 "nbformat_minor": 5
}
