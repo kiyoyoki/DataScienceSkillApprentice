{
 "cells": [
  {
   "cell_type": "markdown",
   "id": "b7d225ed",
   "metadata": {},
   "source": [
    "# 分析の対象を決める段階で選択バイアスが生じる可能性があることを理解する(2022/03/08)\n",
    "---\n",
    "\n",
    "## 概要\n",
    "---\n",
    "\n",
    "本notebookでは，主に選択バイアスについて調査し，意図せず分析結果が変わる可能性について述べる．"
   ]
  },
  {
   "cell_type": "markdown",
   "id": "d2a2e202",
   "metadata": {},
   "source": [
    "## 選択バイアス(Selection bias)\n",
    "---\n",
    "\n",
    "選択バイアスとは，調査・分析のためにある母集団から標本を抽出した段階で生じるバイアスのことである．データを収集する際に母集団の性質が反映されない，偏ったデータを集めてしまうことで，調査・分析結果に悪影響を及ぼす．\n",
    "\n",
    "実際のところ，完全に選択バイアスを取り除くのは困難である．そもそも選択をせずに全数調査できれば選択バイアスは発生しえないが，現実それを行うのは難しいからである．\n",
    "\n",
    "以下に代表的な選択バイアスの例を記す．"
   ]
  },
  {
   "cell_type": "markdown",
   "id": "47a0a11e",
   "metadata": {},
   "source": [
    "### 自己選択バイアス(self-selection bias)\n",
    "\n",
    "調査参加者の意思によって生じるバイアス．例えば，食生活に関する調査を行った場合に，自身の栄養状態に関心の高い人ばかりが参加することが挙げられる．"
   ]
  },
  {
   "cell_type": "markdown",
   "id": "35c455df",
   "metadata": {},
   "source": [
    "### 脱落バイアス(losses to follow up)\n",
    "\n",
    "長期間の調査において，調査対象となる標本が調査できない状態になった(脱落した)とき，生じうるバイアス．例えば，疾病調査において患者が途中で死亡した場合に脱落バイアスは発生しうる．"
   ]
  },
  {
   "cell_type": "markdown",
   "id": "df31b70f",
   "metadata": {},
   "source": [
    "### 時間差によるバイアス\n",
    "2つ以上の標本(集団)を比較する際に，調査時点が異なることによって生じるバイアス．例えばある疾病に対する調査で，新薬が開発された前後の集団を比較対照する際は，その影響を加味する必要がある．"
   ]
  },
  {
   "cell_type": "markdown",
   "id": "2aefcc47",
   "metadata": {},
   "source": [
    "### その他\n",
    "\n",
    "以上に示したもののほかにも，労働環境に関する調査で発生しうる健康労働者効果(healthy worker effect)や，来院者を対象とした調査の時点で生じるBerksonバイアス(Berkson's bias)等がある．\n",
    "\n",
    "ここまで挙げたバイアスは気づきにくいものであるが，そもそも標本を抽出する時点で明らかに偏りが出ることもある．極端な例を挙げるとすれば，ディジタルディバイドに関する調査として「あなたはインターネットをよく利用しますか」という質問をWeb上で行うことが挙げられる．\n",
    "\n",
    "調査・分析という大層なことではなく，身近な選択バイアスを考えてみる．一部の高齢者がよく口にする「最近の若者は～」という文言や，逆に一部の若者が口にする「最近は老害が～」といった文言は選択バイアスの影響を受けた例かもしれない．\n",
    "\n",
    "全体のことを考慮せずに結論を導き出してしまう，いわば「井の中の蛙」になりうる選択バイアスには注意を払う必要がある．"
   ]
  },
  {
   "cell_type": "markdown",
   "id": "9b3ab47a",
   "metadata": {},
   "source": [
    "## 参考文献\n",
    "---\n",
    "\n",
    "[選択バイアス，疫学用語の基礎知識](https://jeaweb.jp/glossary/glossary012.html)\n",
    "\n",
    "[選択バイアス(選択の偏り)，東北電力ネットワーク](https://nw.tohoku-epco.co.jp/electromagnetic/research/epidemiology/bias.html)\n",
    "\n",
    "[バイアスについて知ろう](https://weber.hs.tmu.ac.jp/cat/project/kihon/baiasu.html)\n",
    "\n",
    "[選択バイアス selection bias，統計WEB](https://bellcurve.jp/statistics/blog/14280.html)\n",
    "\n",
    "[バイアス(選択バイアス，情報バイアス，交絡)，大阪大学腎臓内科](https://www.med.osaka-u.ac.jp/pub/kid/clinicaljournalclub14.html)\n",
    "\n",
    "[選択バイアスの具体例や対策方法とは？客観的な視点で確認する意識をもつ，mitsucari](https://mitsucari.com/blog/selection_bias_measures/)\n",
    "\n",
    "[選択バイアスって何！？基本から実例まで分かりやすく解説します！！，ナツの研究室](https://natsu-laboratory.com/selection-bias/)"
   ]
  }
 ],
 "metadata": {
  "kernelspec": {
   "display_name": "Python 3 (ipykernel)",
   "language": "python",
   "name": "python3"
  },
  "language_info": {
   "codemirror_mode": {
    "name": "ipython",
    "version": 3
   },
   "file_extension": ".py",
   "mimetype": "text/x-python",
   "name": "python",
   "nbconvert_exporter": "python",
   "pygments_lexer": "ipython3",
   "version": "3.8.10"
  }
 },
 "nbformat": 4,
 "nbformat_minor": 5
}
