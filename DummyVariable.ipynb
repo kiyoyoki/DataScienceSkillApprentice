{
 "cells": [
  {
   "cell_type": "markdown",
   "id": "e964840b",
   "metadata": {},
   "source": [
    "# 名義尺度の変数をダミー変数に変換する方法を知る(2022/03/19)\n",
    "---\n",
    "\n",
    "## 概要\n",
    "---\n",
    "本notebookではダミー変数の概要と，ダミー変数変換のPythonを用いた実装を取り扱う．\n",
    "\n",
    "データセットには「長さ」「重さ」などと言った量的変数の他に「色」「サイズ」などといった質的変数も入りうる．こうした質的変数を計算機で取り扱うために，間接的な数値へ変換する手法が存在する．ダミー変数もその一種である．"
   ]
  },
  {
   "cell_type": "markdown",
   "id": "6ccfde3d",
   "metadata": {},
   "source": [
    "## ダミー変数\n",
    "---\n",
    "\n",
    "ダミー変数は，名義尺度(名義特徴量ともいう)の変数を計算機で取り扱えるように$\\{0, 1\\}$の二値に変換したものである．\n",
    "\n",
    "通常名義尺度と呼ばれるような変数は，「男」「女」や「赤」「青」「黄色」というように，それぞれが違うものであるという判別はできても,大小関係やスケールが測れるものではない．例えば，次に示すようなTシャツのデータセットがあるとする．"
   ]
  },
  {
   "cell_type": "code",
   "execution_count": 1,
   "id": "c6618935",
   "metadata": {},
   "outputs": [
    {
     "data": {
      "text/html": [
       "<div>\n",
       "<style scoped>\n",
       "    .dataframe tbody tr th:only-of-type {\n",
       "        vertical-align: middle;\n",
       "    }\n",
       "\n",
       "    .dataframe tbody tr th {\n",
       "        vertical-align: top;\n",
       "    }\n",
       "\n",
       "    .dataframe thead th {\n",
       "        text-align: right;\n",
       "    }\n",
       "</style>\n",
       "<table border=\"1\" class=\"dataframe\">\n",
       "  <thead>\n",
       "    <tr style=\"text-align: right;\">\n",
       "      <th></th>\n",
       "      <th>price</th>\n",
       "      <th>color</th>\n",
       "    </tr>\n",
       "  </thead>\n",
       "  <tbody>\n",
       "    <tr>\n",
       "      <th>0</th>\n",
       "      <td>1000</td>\n",
       "      <td>red</td>\n",
       "    </tr>\n",
       "    <tr>\n",
       "      <th>1</th>\n",
       "      <td>1500</td>\n",
       "      <td>blue</td>\n",
       "    </tr>\n",
       "    <tr>\n",
       "      <th>2</th>\n",
       "      <td>2300</td>\n",
       "      <td>yellow</td>\n",
       "    </tr>\n",
       "    <tr>\n",
       "      <th>3</th>\n",
       "      <td>500</td>\n",
       "      <td>blue</td>\n",
       "    </tr>\n",
       "  </tbody>\n",
       "</table>\n",
       "</div>"
      ],
      "text/plain": [
       "   price   color\n",
       "0   1000     red\n",
       "1   1500    blue\n",
       "2   2300  yellow\n",
       "3    500    blue"
      ]
     },
     "execution_count": 1,
     "metadata": {},
     "output_type": "execute_result"
    }
   ],
   "source": [
    "import pandas as pd\n",
    "\n",
    "tshirt_column = ['price', 'color']\n",
    "df = pd.DataFrame([\n",
    "    [1000, 'red'],\n",
    "    [1500, 'blue'],\n",
    "    [2300, 'yellow'],\n",
    "    [500, 'blue']\n",
    "], columns=tshirt_column)\n",
    "df"
   ]
  },
  {
   "cell_type": "markdown",
   "id": "35619513",
   "metadata": {},
   "source": [
    "price(値段)は量的変数(比尺度)なので，特に変数変換を行わずとも回帰分析であったり，機械学習であったりに利用することが可能だ．\n",
    "\n",
    "しかし，color(色)はどうだろうか．この文字列データのままだと人には理解しやすいが，数式・数理モデルに変数として組み込むことはできない．何かしらの数値に変換する必要がある．\n",
    "\n",
    "このとき用いる変数がダミー変数である．ダミー変数は先述の通り，それぞれの名義尺度の値をバイナリ値で表現する．今回はone-hot vectorに変換する手法をpandasとsklearnの2つの方法で実装する．"
   ]
  },
  {
   "cell_type": "code",
   "execution_count": 2,
   "id": "267888c6",
   "metadata": {},
   "outputs": [
    {
     "data": {
      "text/plain": [
       "array([[1000, 0.0, 1.0, 0.0],\n",
       "       [1500, 1.0, 0.0, 0.0],\n",
       "       [2300, 0.0, 0.0, 1.0],\n",
       "       [500, 1.0, 0.0, 0.0]], dtype=object)"
      ]
     },
     "execution_count": 2,
     "metadata": {},
     "output_type": "execute_result"
    }
   ],
   "source": [
    "# 1. sklearnのOneHotEncoderを用いる方法\n",
    "from sklearn.preprocessing import OneHotEncoder\n",
    "from sklearn.compose import ColumnTransformer\n",
    "\n",
    "X=df[['price', 'color']].values\n",
    "\n",
    "ctf = ColumnTransformer([\n",
    "    ('nothing', 'passthrough', [0]),\n",
    "    ('onrhot', OneHotEncoder(), [1])\n",
    "])\n",
    "\n",
    "ctf.fit_transform(X)"
   ]
  },
  {
   "cell_type": "code",
   "execution_count": 3,
   "id": "26cd1742",
   "metadata": {},
   "outputs": [
    {
     "data": {
      "text/html": [
       "<div>\n",
       "<style scoped>\n",
       "    .dataframe tbody tr th:only-of-type {\n",
       "        vertical-align: middle;\n",
       "    }\n",
       "\n",
       "    .dataframe tbody tr th {\n",
       "        vertical-align: top;\n",
       "    }\n",
       "\n",
       "    .dataframe thead th {\n",
       "        text-align: right;\n",
       "    }\n",
       "</style>\n",
       "<table border=\"1\" class=\"dataframe\">\n",
       "  <thead>\n",
       "    <tr style=\"text-align: right;\">\n",
       "      <th></th>\n",
       "      <th>price</th>\n",
       "      <th>color_blue</th>\n",
       "      <th>color_red</th>\n",
       "      <th>color_yellow</th>\n",
       "    </tr>\n",
       "  </thead>\n",
       "  <tbody>\n",
       "    <tr>\n",
       "      <th>0</th>\n",
       "      <td>1000</td>\n",
       "      <td>0</td>\n",
       "      <td>1</td>\n",
       "      <td>0</td>\n",
       "    </tr>\n",
       "    <tr>\n",
       "      <th>1</th>\n",
       "      <td>1500</td>\n",
       "      <td>1</td>\n",
       "      <td>0</td>\n",
       "      <td>0</td>\n",
       "    </tr>\n",
       "    <tr>\n",
       "      <th>2</th>\n",
       "      <td>2300</td>\n",
       "      <td>0</td>\n",
       "      <td>0</td>\n",
       "      <td>1</td>\n",
       "    </tr>\n",
       "    <tr>\n",
       "      <th>3</th>\n",
       "      <td>500</td>\n",
       "      <td>1</td>\n",
       "      <td>0</td>\n",
       "      <td>0</td>\n",
       "    </tr>\n",
       "  </tbody>\n",
       "</table>\n",
       "</div>"
      ],
      "text/plain": [
       "   price  color_blue  color_red  color_yellow\n",
       "0   1000           0          1             0\n",
       "1   1500           1          0             0\n",
       "2   2300           0          0             1\n",
       "3    500           1          0             0"
      ]
     },
     "execution_count": 3,
     "metadata": {},
     "output_type": "execute_result"
    }
   ],
   "source": [
    "# 2. pandasのget_dummiesメソッドを用いる方法\n",
    "pd.get_dummies(df)"
   ]
  },
  {
   "cell_type": "markdown",
   "id": "6f2050b5",
   "metadata": {},
   "source": [
    "単にダミー変数への変換を行う(かつDataFrame)のであれば，get_dummiesを用いた方が簡潔だろう．sklearnの方法はColumnTransformerを経由することでOne-hot encoding以外の変換手法も組み合わせることができる，という点で柔軟性がある．"
   ]
  },
  {
   "cell_type": "markdown",
   "id": "156ed736",
   "metadata": {},
   "source": [
    "## ダミー変数の次元\n",
    "---\n",
    "\n",
    "先ほどの例では，取りうる値が「赤」「青」「黄」3種類(3水準)であった．これに対してOne-hot encodingを行い，3次元のバイナリ値へ変換を行った．\n",
    "\n",
    "考慮すべきは，この次元数が3ではなく2でも良いということである．例えば，「赤」に関する属性color_redを仮に削除したとしても，そのTシャツが赤色であるかどうかは他の「青」「黄」の属性color_blue, color_yellowを見ればわかる．color_blue, color_yellow=0であれば，color_red=1なのだから．\n",
    "\n",
    "とりわけダミー変数へ変換する名義特徴量の値に強い相関が予想される場合に，このような次元の削減を行うことがある．具体的には，多重共線性が及ぼす問題に対処するためである．\n",
    "\n",
    "多重共線性の例として，重回帰モデルを作成する例を考える．以下のように，定数項$\\alpha$と誤差項$\\epsilon$に加えて，2種類の変数$\\beta_1$と$\\beta_2$があるとする．説明変数は$\\mathbf{x}$で，目的変数は$y$とする．\n",
    "\n",
    "\\begin{eqnarray}\n",
    "y = \\alpha + \\beta_1x_1 + \\beta_2x_2 + \\epsilon\n",
    "\\end{eqnarray}"
   ]
  },
  {
   "cell_type": "markdown",
   "id": "c86f43bf",
   "metadata": {},
   "source": [
    "このとき，変数$x_1$と$x_2$に強い相関が認められる場合は，双方の係数$\\beta_1$と$\\beta_2$が過小・過大に評価される恐れがあり，正確な分析ができなくなる．\n",
    "\n",
    "例えば，変数$x_1$と$x_2$に強い正の相関があるとする．導出された重回帰モデルは変数$x_1$のみで十分目的変数を推測できると判断して，本来目的変数に大きな影響を与えるはずの$x_2$の係数$\\beta_2$を過小評価するかもしれない．\n",
    "\n",
    "このような強い相関に基づく悪影響を低減するために，あえてダミー変数をひとつ減らすといった工夫が取られる．実装では，パラメータを指定することでこれが可能だ．"
   ]
  },
  {
   "cell_type": "code",
   "execution_count": 4,
   "id": "3d5aefb9",
   "metadata": {},
   "outputs": [
    {
     "data": {
      "text/plain": [
       "array([[1000, 1.0, 0.0],\n",
       "       [1500, 0.0, 0.0],\n",
       "       [2300, 0.0, 1.0],\n",
       "       [500, 0.0, 0.0]], dtype=object)"
      ]
     },
     "execution_count": 4,
     "metadata": {},
     "output_type": "execute_result"
    }
   ],
   "source": [
    "# 次元数を(水準数-1)に減らす(scikit-learn)\n",
    "X=df[['price', 'color']].values\n",
    "\n",
    "ohe = OneHotEncoder(categories='auto', drop='first')\n",
    "\n",
    "ctf = ColumnTransformer([\n",
    "    ('nothing', 'passthrough', [0]),\n",
    "    ('onrhot', ohe, [1])\n",
    "])\n",
    "\n",
    "ctf.fit_transform(X)"
   ]
  },
  {
   "cell_type": "code",
   "execution_count": 5,
   "id": "6a00375b",
   "metadata": {},
   "outputs": [
    {
     "data": {
      "text/html": [
       "<div>\n",
       "<style scoped>\n",
       "    .dataframe tbody tr th:only-of-type {\n",
       "        vertical-align: middle;\n",
       "    }\n",
       "\n",
       "    .dataframe tbody tr th {\n",
       "        vertical-align: top;\n",
       "    }\n",
       "\n",
       "    .dataframe thead th {\n",
       "        text-align: right;\n",
       "    }\n",
       "</style>\n",
       "<table border=\"1\" class=\"dataframe\">\n",
       "  <thead>\n",
       "    <tr style=\"text-align: right;\">\n",
       "      <th></th>\n",
       "      <th>price</th>\n",
       "      <th>color_red</th>\n",
       "      <th>color_yellow</th>\n",
       "    </tr>\n",
       "  </thead>\n",
       "  <tbody>\n",
       "    <tr>\n",
       "      <th>0</th>\n",
       "      <td>1000</td>\n",
       "      <td>1</td>\n",
       "      <td>0</td>\n",
       "    </tr>\n",
       "    <tr>\n",
       "      <th>1</th>\n",
       "      <td>1500</td>\n",
       "      <td>0</td>\n",
       "      <td>0</td>\n",
       "    </tr>\n",
       "    <tr>\n",
       "      <th>2</th>\n",
       "      <td>2300</td>\n",
       "      <td>0</td>\n",
       "      <td>1</td>\n",
       "    </tr>\n",
       "    <tr>\n",
       "      <th>3</th>\n",
       "      <td>500</td>\n",
       "      <td>0</td>\n",
       "      <td>0</td>\n",
       "    </tr>\n",
       "  </tbody>\n",
       "</table>\n",
       "</div>"
      ],
      "text/plain": [
       "   price  color_red  color_yellow\n",
       "0   1000          1             0\n",
       "1   1500          0             0\n",
       "2   2300          0             1\n",
       "3    500          0             0"
      ]
     },
     "execution_count": 5,
     "metadata": {},
     "output_type": "execute_result"
    }
   ],
   "source": [
    "# 次元数を(水準数-1)に減らす(pandas)\n",
    "pd.get_dummies(df, drop_first=True)"
   ]
  },
  {
   "cell_type": "markdown",
   "id": "ffd8acdd",
   "metadata": {},
   "source": [
    "ただ，scikit-learnのOneHotEncoderのドキュメントには次のような記述がみられる．\n",
    "\n",
    "> However, dropping one category breaks the symmetry of the original representation and can therefore induce a bias in downstream models, for instance for penalized linear classification or regression models. \n",
    "\n",
    "(Google翻訳)\n",
    "> ただし、1つのカテゴリを削除すると、元の表現の対称性が失われるため、たとえばペナルティ付き線形分類または回帰モデルの場合、ダウンストリームモデルにバイアスが生じる可能性があります。\n",
    "\n",
    "例えば，係数にペナルティを課すL2ノルム等を用いる場合は，そもそも扱う変数を削除することによってペナルティを課すはずの係数も消えてしまうということになる．こうした状況がモデルの推測結果に悪影響を与える可能性もあるということだろう．\n",
    "\n",
    "分析対象・分析方法によって柔軟な対応が求められそうだ．"
   ]
  },
  {
   "cell_type": "markdown",
   "id": "e9106c24",
   "metadata": {},
   "source": [
    "## 参考文献\n",
    "---\n",
    "\n",
    "Sebastian Raschka, Vahid Mirjalili, [第3版]Python機械学習プログラミング, インプレス，2020.\n",
    "\n",
    "菅由紀子ら, 最短突破 データサイエンティスト検定(リテラシーレベル)公式リファレンスブック, 技術評論社，2021.\n",
    "\n",
    "[sklearn.preprocessing.OneHotEncoder，scikit-learn 1.0.2 documentation](https://scikit-learn.org/stable/modules/generated/sklearn.preprocessing.OneHotEncoder.html)\n",
    "\n",
    "[sklearn.compose.ColumnTransformer，scikit-learn 1.0.2 documentation](https://scikit-learn.org/stable/modules/generated/sklearn.compose.ColumnTransformer.html)\n",
    "\n",
    "[pandas.get_dummies，pandas 1.4.1 documentation](https://pandas.pydata.org/docs/reference/api/pandas.get_dummies.html)"
   ]
  }
 ],
 "metadata": {
  "kernelspec": {
   "display_name": "Python 3 (ipykernel)",
   "language": "python",
   "name": "python3"
  },
  "language_info": {
   "codemirror_mode": {
    "name": "ipython",
    "version": 3
   },
   "file_extension": ".py",
   "mimetype": "text/x-python",
   "name": "python",
   "nbconvert_exporter": "python",
   "pygments_lexer": "ipython3",
   "version": "3.8.10"
  }
 },
 "nbformat": 4,
 "nbformat_minor": 5
}
