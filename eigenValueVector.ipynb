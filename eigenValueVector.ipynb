{
 "cells": [
  {
   "cell_type": "markdown",
   "id": "00dc308e",
   "metadata": {},
   "source": [
    "# 固有値と固有ベクトルの意味を理解する(2022/01/18)\n",
    "---\n",
    "## 概要\n",
    "---\n",
    "本notebookでは固有値と固有ベクトルについて調査し，その性質についてまとめる．\n",
    "\n",
    "簡単にまとめると，以下の3点：\n",
    "- $n\\times n$である正方行列$A$について，固有値・固有ベクトルが定義される．\n",
    "- 行列$A$を線形変換の作用素だととらえると，固有ベクトルは元のデータのうち「変換によって向きが変わらない部分」という意味になる．例えば画像における線形変換(回転，拡大縮小等)では，固有ベクトル方向の変化は起こらない(定数倍される可能性はある)．\n",
    "- データサイエンスの分野では，固有値と固有ベクトルは主成分分析等の用途に用いられる．主成分分析はデータの「要約」を行う代表的な手法である．\n",
    "\n",
    "## 固有値・固有ベクトル\n",
    "---\n",
    "任意の$n\\times n$の正方行列$A\\in \\mathbb{R}^{n \\times n}$について：\n",
    "\n",
    "\\begin{eqnarray}\n",
    "Ax = \\lambda x \n",
    "\\end{eqnarray}\n",
    "\n",
    "が成り立つとき，ベクトル$x$を「行列$A$の固有ベクトル」，定数$\\lambda$を「行列$A$の固有値」と呼ぶ．固有ベクトル$x$には，零ベクトル$\\mathbf{0}$は含まれない．\n",
    "\n",
    "この式を見ると，固有ベクトル$x$に対して行列$A$で線形変換を行ったとしても，結果は固有値$\\lambda$倍(定数倍)にしかならないという性質を表していることが分かる．\n",
    "\n",
    "例えば，ある画像に対して線形変換(拡大縮小，回転，剪断等)を行った場合，固有ベクトルの方向には高々定数倍の影響しかないということである．画像処理以外でも，例えば地球のような回転体について，固有ベクトルは自転軸と同じ向きを向いている．線形変換以外にも，物体の運動などについて固有ベクトルを捉えられるのは非常に面白い(固有値・固有ベクトルは分野問わず様々な機会に見ることがあるので，非常に重要な概念)．\n",
    "\n",
    "### 固有値・固有ベクトルの導出\n",
    "ある正方行列$A$から実際に固有値・固有ベクトルを導出する場合，以下のような方程式を解く必要がある：\n",
    "\\begin{eqnarray}\n",
    "det(A - \\lambda I) = 0\n",
    "\\end{eqnarray}\n",
    "\n",
    "$I$は単位行列を表す．これはつまり，行列$A-\\lambda I$の行列式がゼロとなる$\\lambda$の値を求める方程式である．これを「固有方程式(特性方程式)」と呼ぶ．固有方程式を解いて$\\lambda$の値を求めたのち，固有ベクトルの定義式に値を代入することで，芋づる式に固有ベクトルも求めることができる．\n",
    "\n",
    "扱う行列によって$\\lambda$の解が複数求まる可能性もある．その個数は$n$個以下になる．\n",
    "\n",
    "なお，現実的に手計算で導出するのは$n=2,3$あたりが限界だと思う．サイズの大きい行列の固有値・固有ベクトルの導出には，計算機の力を借りるのが妥当だろう．\n",
    "\n",
    "### Pythonを用いたシミュレーション\n",
    "Numpyには，行列を引数として与えることで固有値・固有ベクトルを返してくれる関数numpy.linalg.eigが用意されている．"
   ]
  },
  {
   "cell_type": "code",
   "execution_count": 1,
   "id": "118a2587",
   "metadata": {},
   "outputs": [
    {
     "name": "stdout",
     "output_type": "stream",
     "text": [
      "eigen_value: 3.9999999999999996\n",
      "eigen_vector: [ 0.70710678 -0.70710678]\n",
      "eigen_value: -2.000000000000001\n",
      "eigen_vector: [0.70710678 0.70710678]\n"
     ]
    }
   ],
   "source": [
    "import numpy as np\n",
    "\n",
    "# 適当な正方行列を定義する\n",
    "matrix = np.array([\n",
    "    [1, 3],\n",
    "    [3, 1]\n",
    "])\n",
    "\n",
    "eigen_values, eigen_vectors = np.linalg.eig(matrix)\n",
    "\n",
    "for eigen_value, eigen_vector in zip(eigen_values, eigen_vectors):\n",
    "    print('eigen_value:', eigen_value)\n",
    "    print('eigen_vector:', eigen_vector)"
   ]
  },
  {
   "cell_type": "markdown",
   "id": "f0aed6a4",
   "metadata": {},
   "source": [
    "## 主成分分析\n",
    "---\n",
    "固有値・固有ベクトルの応用先として，データサイエンスでは主成分分析が挙げられる．主成分分析を用いることで，データ点の次元数を削減する「要約」のような操作が可能になる．"
   ]
  },
  {
   "cell_type": "markdown",
   "id": "3ca0a2ca",
   "metadata": {},
   "source": [
    "## 参考文献\n",
    "---\n",
    "\n",
    "[固有値，Wikipedia](https://ja.wikipedia.org/wiki/%E5%9B%BA%E6%9C%89%E5%80%A4)\n",
    "\n",
    "[固有値，固有ベクトルの求め方，geisya.or.jp](https://www.geisya.or.jp/~mwm48961/linear_algebra/eigenvalue2.htm)\n",
    "\n",
    "[固有値とその応用(pptスライド)](http://www.akita-pu.ac.jp/system/elect/ins/kusakari/japanese/teaching/Old/LinearAlgebra/2009/note/10.pdf)\n",
    "\n",
    "[固有値と固有ベクトル(pdfファイル)](http://www.osakac.ac.jp/labs/mandai/writings/sd2-02m3-f.pdf)\n",
    "\n",
    "[固有値の定義と求め方をていねいに～計算の手順～，数学の景色](https://mathlandscape.com/eigenvalue/)\n",
    "\n",
    "[numpy.linalg.eig，Numpy v1.22 Manual](https://numpy.org/doc/stable/reference/generated/numpy.linalg.eig.html)\n",
    "\n",
    "[主成分分析とは，インテージ](https://www.intage.co.jp/glossary/401/)\n",
    "\n",
    "[主成分分析，Wikipedia](https://ja.wikipedia.org/wiki/%E4%B8%BB%E6%88%90%E5%88%86%E5%88%86%E6%9E%90)\n",
    "\n",
    "[主成分分析とは？ R を使った分析例や因子分析との違いを解説，Quest](https://quest-research.co.jp/research/principal-component-analysis)\n",
    "\n",
    "[主成分分析，統計科学研究所](https://statistics.co.jp/reference/software_R/statR_9_principal.pdf)\n",
    "\n",
    "[主成分分析とは何なのか、とにかく全力でわかりやすく解説する，CORE CONCEPT](https://recruit.cct-inc.co.jp/tecblog/machine-learning/pca-kaisetsu/)\n",
    "\n",
    "[Rと主成分分析](https://www.cis.doshisha.ac.jp/mjin/R/24/24.html)\n",
    "\n",
    "[主成分分析とは？因子分析との違いや事例を初心者にも分かりやすく解説，GMO RESERCH](https://gmo-research.jp/research-column/principal-component-analysis)\n",
    "\n",
    "[主成分分析の考え方，Logistics of Blue](https://logics-of-blue.com/principal-components-analysis/)"
   ]
  }
 ],
 "metadata": {
  "kernelspec": {
   "display_name": "Python 3 (ipykernel)",
   "language": "python",
   "name": "python3"
  },
  "language_info": {
   "codemirror_mode": {
    "name": "ipython",
    "version": 3
   },
   "file_extension": ".py",
   "mimetype": "text/x-python",
   "name": "python",
   "nbconvert_exporter": "python",
   "pygments_lexer": "ipython3",
   "version": "3.8.10"
  }
 },
 "nbformat": 4,
 "nbformat_minor": 5
}
