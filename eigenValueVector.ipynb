{
 "cells": [
  {
   "cell_type": "markdown",
   "id": "00dc308e",
   "metadata": {},
   "source": [
    "# 固有値と固有ベクトルの意味を理解する(2022/01/18)\n",
    "---\n",
    "## 概要\n",
    "---\n",
    "本notebookでは固有値と固有ベクトルについて調査し，その性質についてまとめる．\n",
    "\n",
    "簡単にまとめると，以下の3点：\n",
    "- $n\\times n$である正方行列$A$について，固有値・固有ベクトルが定義される．\n",
    "- 行列$A$を線形変換の作用素だととらえると，固有ベクトルは元のデータのうち「変換によって向きが変わらない部分」という意味になる．例えば画像における線形変換(回転，拡大縮小等)では，固有ベクトル方向の変化は起こらない(定数倍される可能性はある)．\n",
    "- データサイエンスの分野では，固有値と固有ベクトルは主成分分析等の用途に用いられる．主成分分析はデータの「要約」を行う代表的な手法である．\n",
    "\n",
    "## 固有値・固有ベクトル\n",
    "---\n",
    "任意の$n\\times n$の正方行列$A\\in \\mathbb{R}^{n \\times n}$について：\n",
    "\n",
    "\\begin{eqnarray}\n",
    "Ax = \\lambda x \n",
    "\\end{eqnarray}\n",
    "\n",
    "が成り立つとき，ベクトル$x$を「行列$A$の固有ベクトル」，定数$\\lambda$を「行列$A$の固有値」と呼ぶ．固有ベクトル$x$には，零ベクトル$\\mathbf{0}$は含まれない．\n",
    "\n",
    "この式を見ると，固有ベクトル$x$に対して行列$A$で線形変換を行ったとしても，結果は固有値$\\lambda$倍(定数倍)にしかならないという性質を表していることが分かる．\n",
    "\n",
    "例えば，ある画像に対して線形変換(拡大縮小，回転，剪断等)を行った場合，固有ベクトルの方向には高々定数倍の影響しかないということである．画像処理以外でも，例えば地球のような回転体について，固有ベクトルは自転軸と同じ向きを向いている．線形変換以外にも，物体の運動などについて固有ベクトルを捉えられるのは非常に面白い(固有値・固有ベクトルは分野問わず様々な機会に見ることがあるので，非常に重要な概念)．\n",
    "\n",
    "### 固有値・固有ベクトルの導出\n",
    "ある正方行列$A$から実際に固有値・固有ベクトルを導出する場合，以下のような方程式を解く必要がある：\n",
    "\\begin{eqnarray}\n",
    "det(A - \\lambda I) = 0\n",
    "\\end{eqnarray}\n",
    "\n",
    "$I$は単位行列を表す．これはつまり，行列$A-\\lambda I$の行列式がゼロとなる$\\lambda$の値を求める方程式である．これを「固有方程式(特性方程式)」と呼ぶ．固有方程式を解いて$\\lambda$の値を求めたのち，固有ベクトルの定義式に値を代入することで，芋づる式に固有ベクトルも求めることができる．\n",
    "\n",
    "扱う行列によって$\\lambda$の解が複数求まる可能性もある．その個数は$n$個以下になる．\n",
    "\n",
    "なお，現実的に手計算で導出するのは$n=2,3$あたりが限界だと思う．サイズの大きい行列の固有値・固有ベクトルの導出には，計算機の力を借りるのが妥当だろう．\n",
    "\n",
    "### Pythonを用いたシミュレーション\n",
    "Numpyには，行列を引数として与えることで固有値・固有ベクトルを返してくれる関数numpy.linalg.eigが用意されている．"
   ]
  },
  {
   "cell_type": "code",
   "execution_count": 1,
   "id": "118a2587",
   "metadata": {},
   "outputs": [
    {
     "name": "stdout",
     "output_type": "stream",
     "text": [
      "eigen_value: 3.9999999999999996\n",
      "eigen_vector: [ 0.70710678 -0.70710678]\n",
      "eigen_value: -2.000000000000001\n",
      "eigen_vector: [0.70710678 0.70710678]\n"
     ]
    }
   ],
   "source": [
    "import numpy as np\n",
    "\n",
    "# 適当な正方行列を定義する\n",
    "matrix = np.array([\n",
    "    [1, 3],\n",
    "    [3, 1]\n",
    "])\n",
    "\n",
    "eigen_values, eigen_vectors = np.linalg.eig(matrix)\n",
    "\n",
    "for eigen_value, eigen_vector in zip(eigen_values, eigen_vectors):\n",
    "    print('eigen_value:', eigen_value)\n",
    "    print('eigen_vector:', eigen_vector)"
   ]
  },
  {
   "cell_type": "markdown",
   "id": "f0aed6a4",
   "metadata": {},
   "source": [
    "## 主成分分析\n",
    "---\n",
    "固有値・固有ベクトルの応用先として，データサイエンスでは主成分分析が挙げられる．分散が大きくなるようにデータを見れば，たくさんの情報が得られるはずだという考え方に基づく分析手法である．\n",
    "\n",
    "これはデータの分散共分散行列に対して固有値・固有ベクトルを求めることによって実現される．分散(固有値)が最も大きくなる軸(固有ベクトル)からデータを捉えなおすことで，データ点を特徴づける要素が何か，分析しやすくなる．\n",
    "\n",
    "また，主成分分析の効果として次元削減が挙げられる．データ点の次元を減らすことで，機械学習時の過学習の抑制や，2次元・3次元での可視化といったメリットが得られる．\n",
    "\n",
    "注意点として，主成分分析は特徴量のスケールの大きさの影響を強く受ける点が挙げられる．「分散が最も大きくなる方向に新たな軸を考える」という操作なので，各次元のスケールが大きく異なっている場合には一部の特徴量の影響を強く反映する場合がある．例えば，あるデータが「0から100」のオーダーをもつ特徴量と，「-1000~1000」のオーダーを持つ特徴量からなる場合，「-1000から1000」を取りうる値の分散が大きくなり，主成分分析にも大きな影響を与える．\n",
    "\n",
    "以上の注意点から，主成分分析を行う際はあらかじめデータを標準化(平均0，分散1に補正する)しておくか，相関行列から固有値・固有ベクトルを求めるほうが良い．\n",
    "\n",
    "### 寄与率\n",
    "分散共分散行列(相関行列)から求められる固有値は，固有ベクトルのなす空間に射影した後の分散を表している．得られる固有値の全体に占める割合を「寄与率」と呼び，データ点の分散を基準としてどれだけ各主成分が情報を含んでいるかを定量的に把握できる．\n",
    "\n",
    "固有値の降順に主成分がソートされているとして，$i$番目の主成分の寄与率は：\n",
    "\n",
    "\\begin{eqnarray}\n",
    "(寄与率)_i = \\frac{\\lambda_i}{\\sum_{i}\\lambda_i}\n",
    "\\end{eqnarray}\n",
    "\n",
    "として表される．データセットが単純な構造をしている場合には，寄与率は偏って第一主成分や第二主成分が高い値をとる傾向にある．逆に，データセットが複雑な構造をしている場合には，寄与率は各主成分にまんべんなく散る傾向にある．\n",
    "\n",
    "寄与率を見ることで，データの構造を理解できるほか，後に述べる次元削減の次元数を決める参考になる．\n",
    "\n",
    "また，第一主成分から順に寄与率を足した「累積寄与率」も有効な指標として用いられる．累積寄与率の増加量が急峻であれば，少ない次元で多くの情報を保持できる可能性が高い．\n",
    "\n",
    "### 因子負荷量\n",
    "因子負荷量は，各変数と各主成分との相関係数で表される量である．つまり，各変数が各主成分に対してどれだけ影響を与えているかが分かる．第$i$主成分の固有ベクトルで$j$番目の変数に対応するものを$v_{ij}$とし，第$i$主成分に対応する固有値を$\\lambda_i$としたとき，$j$番目の変数と第$i$主成分との因子負荷量は以下のように表される：\n",
    "\n",
    "\\begin{eqnarray}\n",
    "(因子負荷量)_{ij} = \\sqrt{\\lambda_i}v_{ij}\n",
    "\\end{eqnarray}\n",
    "\n",
    "各主成分ごとに因子負荷量をプロットすることで，どの変数がどの主成分に影響を及ぼしているのか，定量的に把握できる．また，データ点において同じような傾向を示す変数同士，異なる傾向を示す変数同士の傾向も把握できる．\n",
    "\n",
    "### 次元削減\n",
    "主成分分析の特徴として，データ点の次元削減が挙げられる．これは，主成分分析によって得られた固有ベクトルを線形変換の作用素として，新たな空間に射影する操作に等しい．この際，選ばれなかった(寄与率の低い)固有ベクトル方向の情報は捨てられてしまうため，注意が必要である．\n",
    "\n",
    "具体的には，$d$次元のデータ点からなるデータセット$D=\\{\\boldsymbol{x}_1,...,\\boldsymbol{x}_n\\}$があるとして，これの分散共分散行列(相関行列)を$S \\in \\mathbb{R}^{d \\times d}$とする．そして，主成分分析によって得られる固有ベクトルを$\\{v_1,...,v_d\\}$とする．このとき，固有ベクトルのうち任意の$k$個(一般的には情報の多いとされる上位$k$個)を選び，以下のような線形変換を行う：\n",
    "\n",
    "\\begin{eqnarray}\n",
    "\\boldsymbol{x}'_i = \n",
    "\\begin{pmatrix}\n",
    "v_1  \\\\\n",
    "v_2  \\\\\n",
    "\\end{pmatrix}\n",
    "\\boldsymbol{x}_i\n",
    "\\end{eqnarray}\n",
    "\n",
    "上記の例は，2次元平面へ射影する操作である．\n",
    "\n",
    "次元削減の副次的な効果として，3次元以下にすることで可視化が容易になることが挙げられる．\n",
    "\n",
    "### Pythonを用いたシミュレーション\n",
    "ここでは有名なIrisデータセットを用いて，実際に主成分分析を行う．寄与率の計算・因子負荷量の計算・次元削減を行い，具体的な効果を観察する．"
   ]
  },
  {
   "cell_type": "code",
   "execution_count": 2,
   "id": "dfebffd4",
   "metadata": {},
   "outputs": [
    {
     "data": {
      "text/html": [
       "<div>\n",
       "<style scoped>\n",
       "    .dataframe tbody tr th:only-of-type {\n",
       "        vertical-align: middle;\n",
       "    }\n",
       "\n",
       "    .dataframe tbody tr th {\n",
       "        vertical-align: top;\n",
       "    }\n",
       "\n",
       "    .dataframe thead th {\n",
       "        text-align: right;\n",
       "    }\n",
       "</style>\n",
       "<table border=\"1\" class=\"dataframe\">\n",
       "  <thead>\n",
       "    <tr style=\"text-align: right;\">\n",
       "      <th></th>\n",
       "      <th>0</th>\n",
       "      <th>1</th>\n",
       "      <th>2</th>\n",
       "      <th>3</th>\n",
       "      <th>4</th>\n",
       "    </tr>\n",
       "  </thead>\n",
       "  <tbody>\n",
       "    <tr>\n",
       "      <th>0</th>\n",
       "      <td>5.1</td>\n",
       "      <td>3.5</td>\n",
       "      <td>1.4</td>\n",
       "      <td>0.2</td>\n",
       "      <td>Iris-setosa</td>\n",
       "    </tr>\n",
       "    <tr>\n",
       "      <th>1</th>\n",
       "      <td>4.9</td>\n",
       "      <td>3.0</td>\n",
       "      <td>1.4</td>\n",
       "      <td>0.2</td>\n",
       "      <td>Iris-setosa</td>\n",
       "    </tr>\n",
       "    <tr>\n",
       "      <th>2</th>\n",
       "      <td>4.7</td>\n",
       "      <td>3.2</td>\n",
       "      <td>1.3</td>\n",
       "      <td>0.2</td>\n",
       "      <td>Iris-setosa</td>\n",
       "    </tr>\n",
       "    <tr>\n",
       "      <th>3</th>\n",
       "      <td>4.6</td>\n",
       "      <td>3.1</td>\n",
       "      <td>1.5</td>\n",
       "      <td>0.2</td>\n",
       "      <td>Iris-setosa</td>\n",
       "    </tr>\n",
       "    <tr>\n",
       "      <th>4</th>\n",
       "      <td>5.0</td>\n",
       "      <td>3.6</td>\n",
       "      <td>1.4</td>\n",
       "      <td>0.2</td>\n",
       "      <td>Iris-setosa</td>\n",
       "    </tr>\n",
       "  </tbody>\n",
       "</table>\n",
       "</div>"
      ],
      "text/plain": [
       "     0    1    2    3            4\n",
       "0  5.1  3.5  1.4  0.2  Iris-setosa\n",
       "1  4.9  3.0  1.4  0.2  Iris-setosa\n",
       "2  4.7  3.2  1.3  0.2  Iris-setosa\n",
       "3  4.6  3.1  1.5  0.2  Iris-setosa\n",
       "4  5.0  3.6  1.4  0.2  Iris-setosa"
      ]
     },
     "execution_count": 2,
     "metadata": {},
     "output_type": "execute_result"
    }
   ],
   "source": [
    "# Irisデータセットのダウンロード\n",
    "import os\n",
    "import pandas as pd\n",
    "\n",
    "iris_url = os.path.join('https://archive.ics.uci.edu', 'ml', 'machine-learning-databases', 'iris', 'iris.data')\n",
    "df = pd.read_csv(iris_url, header=None, encoding='utf-8')\n",
    "df.head()"
   ]
  },
  {
   "cell_type": "code",
   "execution_count": 3,
   "id": "6c36782a",
   "metadata": {},
   "outputs": [
    {
     "data": {
      "text/html": [
       "<div>\n",
       "<style scoped>\n",
       "    .dataframe tbody tr th:only-of-type {\n",
       "        vertical-align: middle;\n",
       "    }\n",
       "\n",
       "    .dataframe tbody tr th {\n",
       "        vertical-align: top;\n",
       "    }\n",
       "\n",
       "    .dataframe thead th {\n",
       "        text-align: right;\n",
       "    }\n",
       "</style>\n",
       "<table border=\"1\" class=\"dataframe\">\n",
       "  <thead>\n",
       "    <tr style=\"text-align: right;\">\n",
       "      <th></th>\n",
       "      <th>0</th>\n",
       "      <th>1</th>\n",
       "      <th>2</th>\n",
       "      <th>3</th>\n",
       "      <th>4</th>\n",
       "    </tr>\n",
       "  </thead>\n",
       "  <tbody>\n",
       "    <tr>\n",
       "      <th>145</th>\n",
       "      <td>6.7</td>\n",
       "      <td>3.0</td>\n",
       "      <td>5.2</td>\n",
       "      <td>2.3</td>\n",
       "      <td>Iris-virginica</td>\n",
       "    </tr>\n",
       "    <tr>\n",
       "      <th>146</th>\n",
       "      <td>6.3</td>\n",
       "      <td>2.5</td>\n",
       "      <td>5.0</td>\n",
       "      <td>1.9</td>\n",
       "      <td>Iris-virginica</td>\n",
       "    </tr>\n",
       "    <tr>\n",
       "      <th>147</th>\n",
       "      <td>6.5</td>\n",
       "      <td>3.0</td>\n",
       "      <td>5.2</td>\n",
       "      <td>2.0</td>\n",
       "      <td>Iris-virginica</td>\n",
       "    </tr>\n",
       "    <tr>\n",
       "      <th>148</th>\n",
       "      <td>6.2</td>\n",
       "      <td>3.4</td>\n",
       "      <td>5.4</td>\n",
       "      <td>2.3</td>\n",
       "      <td>Iris-virginica</td>\n",
       "    </tr>\n",
       "    <tr>\n",
       "      <th>149</th>\n",
       "      <td>5.9</td>\n",
       "      <td>3.0</td>\n",
       "      <td>5.1</td>\n",
       "      <td>1.8</td>\n",
       "      <td>Iris-virginica</td>\n",
       "    </tr>\n",
       "  </tbody>\n",
       "</table>\n",
       "</div>"
      ],
      "text/plain": [
       "       0    1    2    3               4\n",
       "145  6.7  3.0  5.2  2.3  Iris-virginica\n",
       "146  6.3  2.5  5.0  1.9  Iris-virginica\n",
       "147  6.5  3.0  5.2  2.0  Iris-virginica\n",
       "148  6.2  3.4  5.4  2.3  Iris-virginica\n",
       "149  5.9  3.0  5.1  1.8  Iris-virginica"
      ]
     },
     "execution_count": 3,
     "metadata": {},
     "output_type": "execute_result"
    }
   ],
   "source": [
    "df.tail()"
   ]
  },
  {
   "cell_type": "markdown",
   "id": "e5d697b6",
   "metadata": {},
   "source": [
    "ここでIrisデータセットの各特徴量について簡単に説明する．\n",
    "1. sepal length(がく片の長さ)\n",
    "1. sepal width(がく片の幅)\n",
    "1. petal length(花弁の長さ)\n",
    "1. petal width(花弁の幅)\n",
    "1. class(Setosa, Versicolour, Virginica)\n",
    "\n",
    "このままだと(クラスを除けば)4次元のデータであるため，分かりやすく可視化(プロット)することは不可能である．以下のように，2種類の特徴量(次元)を選べばプロットが可能"
   ]
  },
  {
   "cell_type": "code",
   "execution_count": 4,
   "id": "64119200",
   "metadata": {},
   "outputs": [
    {
     "data": {
      "text/plain": [
       "<matplotlib.legend.Legend at 0x7f4b9decff10>"
      ]
     },
     "execution_count": 4,
     "metadata": {},
     "output_type": "execute_result"
    },
    {
     "data": {
      "image/png": "[encoded data removed]",
      "text/plain": [
       "<Figure size 432x288 with 1 Axes>"
      ]
     },
     "metadata": {
      "needs_background": "light"
     },
     "output_type": "display_data"
    }
   ],
   "source": [
    "# sepal lengthとsepal widthでクラス別に散布図を描く\n",
    "import matplotlib.pyplot as plt\n",
    "\n",
    "plt.xlabel('sepal-length')\n",
    "plt.ylabel('sepal-width')\n",
    "\n",
    "plt.scatter(df.iloc[0:50, 0], df.iloc[0:50, 1], color='blue', label='Iris-Setosa')\n",
    "plt.scatter(df.iloc[50:100, 0], df.iloc[50:100, 1], color='red', label='Iris-Versicolour')\n",
    "plt.scatter(df.iloc[100:150, 0], df.iloc[100:150, 1], color='green', label='Iris-Verginica')\n",
    "\n",
    "plt.legend()"
   ]
  },
  {
   "cell_type": "markdown",
   "id": "a5326a79",
   "metadata": {},
   "source": [
    "ここから，実際に相関行列を作成し，主成分分析を行う．まず，データを標準化する．"
   ]
  },
  {
   "cell_type": "code",
   "execution_count": 5,
   "id": "817e39d2",
   "metadata": {},
   "outputs": [
    {
     "data": {
      "text/html": [
       "<div>\n",
       "<style scoped>\n",
       "    .dataframe tbody tr th:only-of-type {\n",
       "        vertical-align: middle;\n",
       "    }\n",
       "\n",
       "    .dataframe tbody tr th {\n",
       "        vertical-align: top;\n",
       "    }\n",
       "\n",
       "    .dataframe thead th {\n",
       "        text-align: right;\n",
       "    }\n",
       "</style>\n",
       "<table border=\"1\" class=\"dataframe\">\n",
       "  <thead>\n",
       "    <tr style=\"text-align: right;\">\n",
       "      <th></th>\n",
       "      <th>0</th>\n",
       "      <th>1</th>\n",
       "      <th>2</th>\n",
       "      <th>3</th>\n",
       "      <th>4</th>\n",
       "    </tr>\n",
       "  </thead>\n",
       "  <tbody>\n",
       "    <tr>\n",
       "      <th>0</th>\n",
       "      <td>-0.897674</td>\n",
       "      <td>1.028611</td>\n",
       "      <td>-1.336794</td>\n",
       "      <td>-1.308593</td>\n",
       "      <td>Iris-setosa</td>\n",
       "    </tr>\n",
       "    <tr>\n",
       "      <th>1</th>\n",
       "      <td>-1.139200</td>\n",
       "      <td>-0.124540</td>\n",
       "      <td>-1.336794</td>\n",
       "      <td>-1.308593</td>\n",
       "      <td>Iris-setosa</td>\n",
       "    </tr>\n",
       "    <tr>\n",
       "      <th>2</th>\n",
       "      <td>-1.380727</td>\n",
       "      <td>0.336720</td>\n",
       "      <td>-1.393470</td>\n",
       "      <td>-1.308593</td>\n",
       "      <td>Iris-setosa</td>\n",
       "    </tr>\n",
       "    <tr>\n",
       "      <th>3</th>\n",
       "      <td>-1.501490</td>\n",
       "      <td>0.106090</td>\n",
       "      <td>-1.280118</td>\n",
       "      <td>-1.308593</td>\n",
       "      <td>Iris-setosa</td>\n",
       "    </tr>\n",
       "    <tr>\n",
       "      <th>4</th>\n",
       "      <td>-1.018437</td>\n",
       "      <td>1.259242</td>\n",
       "      <td>-1.336794</td>\n",
       "      <td>-1.308593</td>\n",
       "      <td>Iris-setosa</td>\n",
       "    </tr>\n",
       "  </tbody>\n",
       "</table>\n",
       "</div>"
      ],
      "text/plain": [
       "          0         1         2         3            4\n",
       "0 -0.897674  1.028611 -1.336794 -1.308593  Iris-setosa\n",
       "1 -1.139200 -0.124540 -1.336794 -1.308593  Iris-setosa\n",
       "2 -1.380727  0.336720 -1.393470 -1.308593  Iris-setosa\n",
       "3 -1.501490  0.106090 -1.280118 -1.308593  Iris-setosa\n",
       "4 -1.018437  1.259242 -1.336794 -1.308593  Iris-setosa"
      ]
     },
     "execution_count": 5,
     "metadata": {},
     "output_type": "execute_result"
    }
   ],
   "source": [
    "# Irisデータセットの標準化\n",
    "df.iloc[:,:4] = (df.iloc[:,:4] - df.iloc[:,:4].mean()) / df.iloc[:,:4].std()\n",
    "df.head()"
   ]
  },
  {
   "cell_type": "code",
   "execution_count": 6,
   "id": "e278d404",
   "metadata": {},
   "outputs": [
    {
     "data": {
      "text/plain": [
       "<matplotlib.legend.Legend at 0x7f4b9dde6070>"
      ]
     },
     "execution_count": 6,
     "metadata": {},
     "output_type": "execute_result"
    },
    {
     "data": {
      "image/png": "[encoded data removed]",
      "text/plain": [
       "<Figure size 432x288 with 1 Axes>"
      ]
     },
     "metadata": {
      "needs_background": "light"
     },
     "output_type": "display_data"
    }
   ],
   "source": [
    "plt.xlabel('sepal-length')\n",
    "plt.ylabel('sepal-width')\n",
    "\n",
    "plt.scatter(df.iloc[0:50, 0], df.iloc[0:50, 1], color='blue', label='Iris-Setosa')\n",
    "plt.scatter(df.iloc[50:100, 0], df.iloc[50:100, 1], color='red', label='Iris-Versicolour')\n",
    "plt.scatter(df.iloc[100:150, 0], df.iloc[100:150, 1], color='green', label='Iris-Verginica')\n",
    "\n",
    "plt.legend()"
   ]
  },
  {
   "cell_type": "markdown",
   "id": "d4f99517",
   "metadata": {},
   "source": [
    "続いて分散共分散行列を作成し,それの固有値・固有ベクトルを算出する．"
   ]
  },
  {
   "cell_type": "code",
   "execution_count": 7,
   "id": "2388f23c",
   "metadata": {},
   "outputs": [
    {
     "name": "stdout",
     "output_type": "stream",
     "text": [
      "[[ 1.         -0.10936925  0.87175416  0.81795363]\n",
      " [-0.10936925  1.         -0.4205161  -0.35654409]\n",
      " [ 0.87175416 -0.4205161   1.          0.9627571 ]\n",
      " [ 0.81795363 -0.35654409  0.9627571   1.        ]]\n",
      "No. 0\n",
      "eigen value: 2.9108180837520563\n",
      "eigen vector: [ 0.52237162 -0.37231836 -0.72101681  0.26199559]\n",
      "No. 1\n",
      "eigen value: 0.9212209307072229\n",
      "eigen vector: [-0.26335492 -0.92555649  0.24203288 -0.12413481]\n",
      "No. 2\n",
      "eigen value: 0.14735327830509587\n",
      "eigen vector: [ 0.58125401 -0.02109478  0.14089226 -0.80115427]\n",
      "No. 3\n",
      "eigen value: 0.02060770723562511\n",
      "eigen vector: [ 0.56561105 -0.06541577  0.6338014   0.52354627]\n"
     ]
    }
   ],
   "source": [
    "# 分散共分散行列の作成\n",
    "iris_cov = np.cov(df.iloc[:,:4], rowvar=False)\n",
    "print(iris_cov)\n",
    "\n",
    "# 固有値・固有ベクトルの算出\n",
    "iris_eigen_values, iris_eigen_vectors = np.linalg.eig(iris_cov)\n",
    "\n",
    "\n",
    "for i, iris_eigen in enumerate(zip(iris_eigen_values, iris_eigen_vectors)):\n",
    "    print('No.', i)\n",
    "    print('eigen value:', iris_eigen[0])\n",
    "    print('eigen vector:', iris_eigen[1])"
   ]
  },
  {
   "cell_type": "code",
   "execution_count": 8,
   "id": "233625a5",
   "metadata": {},
   "outputs": [
    {
     "data": {
      "text/plain": [
       "[<matplotlib.lines.Line2D at 0x7f4b9dd14700>]"
      ]
     },
     "execution_count": 8,
     "metadata": {},
     "output_type": "execute_result"
    },
    {
     "data": {
      "image/png": "[encoded data removed]",
      "text/plain": [
       "<Figure size 432x288 with 1 Axes>"
      ]
     },
     "metadata": {
      "needs_background": "light"
     },
     "output_type": "display_data"
    }
   ],
   "source": [
    "# 寄与率と累積寄与率を算出し，プロットしてみる\n",
    "plt.bar(['1st', '2nd', '3rd', '4th'], iris_eigen_values / iris_eigen_values.sum())\n",
    "plt.plot(np.cumsum(iris_eigen_values / iris_eigen_values.sum()), drawstyle='steps-post')"
   ]
  },
  {
   "cell_type": "code",
   "execution_count": 9,
   "id": "6c095c43",
   "metadata": {},
   "outputs": [
    {
     "data": {
      "image/png": "[encoded data removed]",
      "text/plain": [
       "<Figure size 432x288 with 4 Axes>"
      ]
     },
     "metadata": {
      "needs_background": "light"
     },
     "output_type": "display_data"
    }
   ],
   "source": [
    "# 各主成分ごとの因子負荷量を算出し，プロットしてみる\n",
    "fig, axes = plt.subplots(2, 2)\n",
    "\n",
    "k=0\n",
    "for i in range(2):\n",
    "    for j in range(2):\n",
    "        axes[i, j].scatter(['s_l', 's_w', 'p_l', 'p_w'],\n",
    "                           np.sqrt(iris_eigen_values[k])*iris_eigen_vectors[k])\n",
    "        axes[i, j].set_title('No.'+str(k+1))\n",
    "        axes[i, j].set_ylim([-1.5, 1.5])\n",
    "        k+=1\n",
    "\n",
    "plt.subplots_adjust(wspace=0.5, hspace=0.5)"
   ]
  },
  {
   "cell_type": "code",
   "execution_count": 10,
   "id": "8750f16f",
   "metadata": {},
   "outputs": [
    {
     "name": "stdout",
     "output_type": "stream",
     "text": [
      "<class 'pandas.core.frame.DataFrame'>\n",
      "RangeIndex: 150 entries, 0 to 149\n",
      "Data columns (total 2 columns):\n",
      " #   Column  Non-Null Count  Dtype  \n",
      "---  ------  --------------  -----  \n",
      " 0   0       150 non-null    float64\n",
      " 1   1       150 non-null    float64\n",
      "dtypes: float64(2)\n",
      "memory usage: 2.5 KB\n"
     ]
    }
   ],
   "source": [
    "# 特に寄与率の高かった第一主成分と第二主成分を用いて次元削減\n",
    "df_2dim = df.iloc[:,:4].dot(iris_eigen_vectors[:2,:].T) \n",
    "df_2dim.info()"
   ]
  },
  {
   "cell_type": "code",
   "execution_count": 11,
   "id": "7a258cc6",
   "metadata": {},
   "outputs": [
    {
     "data": {
      "text/html": [
       "<div>\n",
       "<style scoped>\n",
       "    .dataframe tbody tr th:only-of-type {\n",
       "        vertical-align: middle;\n",
       "    }\n",
       "\n",
       "    .dataframe tbody tr th {\n",
       "        vertical-align: top;\n",
       "    }\n",
       "\n",
       "    .dataframe thead th {\n",
       "        text-align: right;\n",
       "    }\n",
       "</style>\n",
       "<table border=\"1\" class=\"dataframe\">\n",
       "  <thead>\n",
       "    <tr style=\"text-align: right;\">\n",
       "      <th></th>\n",
       "      <th>0</th>\n",
       "      <th>1</th>\n",
       "    </tr>\n",
       "  </thead>\n",
       "  <tbody>\n",
       "    <tr>\n",
       "      <th>145</th>\n",
       "      <td>0.375884</td>\n",
       "      <td>-0.138610</td>\n",
       "    </tr>\n",
       "    <tr>\n",
       "      <th>146</th>\n",
       "      <td>0.497297</td>\n",
       "      <td>1.093540</td>\n",
       "    </tr>\n",
       "    <tr>\n",
       "      <th>147</th>\n",
       "      <td>0.146726</td>\n",
       "      <td>-0.026205</td>\n",
       "    </tr>\n",
       "    <tr>\n",
       "      <th>148</th>\n",
       "      <td>-0.364733</td>\n",
       "      <td>-0.806002</td>\n",
       "    </tr>\n",
       "    <tr>\n",
       "      <th>149</th>\n",
       "      <td>-0.259570</td>\n",
       "      <td>0.183431</td>\n",
       "    </tr>\n",
       "  </tbody>\n",
       "</table>\n",
       "</div>"
      ],
      "text/plain": [
       "            0         1\n",
       "145  0.375884 -0.138610\n",
       "146  0.497297  1.093540\n",
       "147  0.146726 -0.026205\n",
       "148 -0.364733 -0.806002\n",
       "149 -0.259570  0.183431"
      ]
     },
     "execution_count": 11,
     "metadata": {},
     "output_type": "execute_result"
    }
   ],
   "source": [
    "df_2dim.tail()"
   ]
  },
  {
   "cell_type": "code",
   "execution_count": 12,
   "id": "4224561c",
   "metadata": {},
   "outputs": [
    {
     "data": {
      "text/plain": [
       "<matplotlib.legend.Legend at 0x7f4b9db8a070>"
      ]
     },
     "execution_count": 12,
     "metadata": {},
     "output_type": "execute_result"
    },
    {
     "data": {
      "image/png": "[encoded data removed]",
      "text/plain": [
       "<Figure size 432x288 with 1 Axes>"
      ]
     },
     "metadata": {
      "needs_background": "light"
     },
     "output_type": "display_data"
    }
   ],
   "source": [
    "plt.scatter(df_2dim.iloc[:50, 0], df_2dim.iloc[:50, 1], label='Iris-Setosa', color='blue')\n",
    "plt.scatter(df_2dim.iloc[50:100, 0], df_2dim.iloc[50:100, 1], label='Iris-Versicolour', color='red')\n",
    "plt.scatter(df_2dim.iloc[100:150, 0], df_2dim.iloc[100:150, 1], label='Iris-Versinica', color='green')\n",
    "plt.legend()"
   ]
  },
  {
   "cell_type": "markdown",
   "id": "66afc096",
   "metadata": {},
   "source": [
    "また，データを標準化しない場合には，異なる結果が得られる．元データの分散の情報が維持できるため，線形分離性を高める場合は標準化を行わない方が良いかも?"
   ]
  },
  {
   "cell_type": "code",
   "execution_count": 13,
   "id": "abf6e87e",
   "metadata": {},
   "outputs": [
    {
     "name": "stdout",
     "output_type": "stream",
     "text": [
      "[[ 0.68569351 -0.03926846  1.27368233  0.5169038 ]\n",
      " [-0.03926846  0.18800403 -0.32171275 -0.11798121]\n",
      " [ 1.27368233 -0.32171275  3.11317942  1.29638747]\n",
      " [ 0.5169038  -0.11798121  1.29638747  0.58241432]]\n",
      "No. 0\n",
      "eigen value: 4.224840768320108\n",
      "eigen vector: [ 0.36158968 -0.65653988 -0.58099728  0.31725455]\n",
      "No. 1\n",
      "eigen value: 0.24224357162751511\n",
      "eigen vector: [-0.08226889 -0.72971237  0.59641809 -0.32409435]\n",
      "No. 2\n",
      "eigen value: 0.07852390809415467\n",
      "eigen vector: [ 0.85657211  0.1757674   0.07252408 -0.47971899]\n",
      "No. 3\n",
      "eigen value: 0.02368302712600035\n",
      "eigen vector: [0.35884393 0.07470647 0.54906091 0.75112056]\n"
     ]
    }
   ],
   "source": [
    "df2 = pd.read_csv(iris_url, header=None, encoding='utf-8')\n",
    "df2.iloc[:,:4] = df2.iloc[:,:4] - df2.iloc[:,:4].mean()\n",
    "\n",
    "# 分散共分散行列の作成\n",
    "iris_cov2 = np.cov(df2.iloc[:,:4], rowvar=False)\n",
    "print(iris_cov2)\n",
    "\n",
    "# 固有値・固有ベクトルの算出\n",
    "iris_eigen_values2, iris_eigen_vectors2 = np.linalg.eig(iris_cov2)\n",
    "\n",
    "# 固有値順でソート\n",
    "value_index = np.argsort(iris_eigen_values2)[::-1]\n",
    "iris_eigen_values2 = iris_eigen_values2[value_index]\n",
    "iris_eigen_vectors2 = iris_eigen_vectors2[value_index]\n",
    "\n",
    "for i, iris_eigen in enumerate(zip(iris_eigen_values2, iris_eigen_vectors2)):\n",
    "    print('No.', i)\n",
    "    print('eigen value:', iris_eigen[0])\n",
    "    print('eigen vector:', iris_eigen[1])"
   ]
  },
  {
   "cell_type": "markdown",
   "id": "5e00e8f7",
   "metadata": {},
   "source": [
    "寄与率も標準化を行った場合と比べてみると面白い．標準化を行わない方が，寄与率が第一主成分に集中している．"
   ]
  },
  {
   "cell_type": "code",
   "execution_count": 14,
   "id": "14d18dee",
   "metadata": {},
   "outputs": [
    {
     "data": {
      "text/plain": [
       "[<matplotlib.lines.Line2D at 0x7f4b9dadcb80>]"
      ]
     },
     "execution_count": 14,
     "metadata": {},
     "output_type": "execute_result"
    },
    {
     "data": {
      "image/png": "[encoded data removed]",
      "text/plain": [
       "<Figure size 432x288 with 1 Axes>"
      ]
     },
     "metadata": {
      "needs_background": "light"
     },
     "output_type": "display_data"
    }
   ],
   "source": [
    "# 寄与率と累積寄与率を算出し，プロットしてみる\n",
    "plt.bar(['1st', '2nd', '3rd', '4th'], iris_eigen_values2 / iris_eigen_values2.sum())\n",
    "plt.plot(np.cumsum(iris_eigen_values2 / iris_eigen_values2.sum()), drawstyle='steps-post')"
   ]
  },
  {
   "cell_type": "code",
   "execution_count": 15,
   "id": "2e37762f",
   "metadata": {},
   "outputs": [
    {
     "data": {
      "text/plain": [
       "<matplotlib.legend.Legend at 0x7f4b9da38fd0>"
      ]
     },
     "execution_count": 15,
     "metadata": {},
     "output_type": "execute_result"
    },
    {
     "data": {
      "image/png": "[encoded data removed]",
      "text/plain": [
       "<Figure size 432x288 with 1 Axes>"
      ]
     },
     "metadata": {
      "needs_background": "light"
     },
     "output_type": "display_data"
    }
   ],
   "source": [
    "# 特に寄与率の高かった第一主成分と第二主成分を用いて次元削減\n",
    "df2_2dim = df2.iloc[:,:4].dot(iris_eigen_vectors2[:2,:].T) \n",
    "\n",
    "plt.scatter(df2_2dim.iloc[:50, 0], df2_2dim.iloc[:50, 1], label='Iris-Setosa', color='blue')\n",
    "plt.scatter(df2_2dim.iloc[50:100, 0], df2_2dim.iloc[50:100, 1], label='Iris-Versicolour', color='red')\n",
    "plt.scatter(df2_2dim.iloc[100:150, 0], df2_2dim.iloc[100:150, 1], label='Iris-Versinica', color='green')\n",
    "plt.legend()"
   ]
  },
  {
   "cell_type": "markdown",
   "id": "3ca0a2ca",
   "metadata": {},
   "source": [
    "## 参考文献\n",
    "---\n",
    "\n",
    "[固有値，Wikipedia](https://ja.wikipedia.org/wiki/%E5%9B%BA%E6%9C%89%E5%80%A4)\n",
    "\n",
    "[固有値，固有ベクトルの求め方，geisya.or.jp](https://www.geisya.or.jp/~mwm48961/linear_algebra/eigenvalue2.htm)\n",
    "\n",
    "[固有値とその応用(pptスライド)](http://www.akita-pu.ac.jp/system/elect/ins/kusakari/japanese/teaching/Old/LinearAlgebra/2009/note/10.pdf)\n",
    "\n",
    "[固有値と固有ベクトル(pdfファイル)](http://www.osakac.ac.jp/labs/mandai/writings/sd2-02m3-f.pdf)\n",
    "\n",
    "[固有値の定義と求め方をていねいに～計算の手順～，数学の景色](https://mathlandscape.com/eigenvalue/)\n",
    "\n",
    "[numpy.linalg.eig，Numpy v1.22 Manual](https://numpy.org/doc/stable/reference/generated/numpy.linalg.eig.html)\n",
    "\n",
    "[主成分分析とは，インテージ](https://www.intage.co.jp/glossary/401/)\n",
    "\n",
    "[主成分分析，Wikipedia](https://ja.wikipedia.org/wiki/%E4%B8%BB%E6%88%90%E5%88%86%E5%88%86%E6%9E%90)\n",
    "\n",
    "[主成分分析とは？ R を使った分析例や因子分析との違いを解説，Quest](https://quest-research.co.jp/research/principal-component-analysis)\n",
    "\n",
    "[主成分分析，統計科学研究所](https://statistics.co.jp/reference/software_R/statR_9_principal.pdf)\n",
    "\n",
    "[主成分分析とは何なのか、とにかく全力でわかりやすく解説する，CORE CONCEPT](https://recruit.cct-inc.co.jp/tecblog/machine-learning/pca-kaisetsu/)\n",
    "\n",
    "[Rと主成分分析](https://www.cis.doshisha.ac.jp/mjin/R/24/24.html)\n",
    "\n",
    "[主成分分析とは？因子分析との違いや事例を初心者にも分かりやすく解説，GMO RESERCH](https://gmo-research.jp/research-column/principal-component-analysis)\n",
    "\n",
    "[主成分分析の考え方，Logistics of Blue](https://logics-of-blue.com/principal-components-analysis/)\n",
    "\n",
    "[分散共分散行列の定義と性質，高校数学の美しい物語](https://manabitimes.jp/math/1020)\n",
    "\n",
    "[相関行列の定義と分散共分散行列との関係，高校数学の美しい物語](https://manabitimes.jp/math/1294)\n",
    "\n",
    "[座標平面上における回転の公式，具体例で学ぶ数学](https://mathwords.net/heimenkaiten)\n",
    "\n",
    "[行列と一次変換](https://www.geisya.or.jp/~mwm48961/linear_algebra/transform1.htm)\n",
    "\n",
    "[Iris Data Set，UCI Machine Learning Repository](https://archive.ics.uci.edu/ml/datasets/Iris)\n",
    "\n",
    "[Pythonで正規化・標準化（リスト、NumPy配列、pandas.DataFrame）,note.nkmk.me](https://note.nkmk.me/python-list-ndarray-dataframe-normalize-standardize/)\n",
    "\n",
    "[numpy.cov，Numpy v1.22 Manual](https://numpy.org/doc/stable/reference/generated/numpy.cov.html)\n",
    "\n",
    "[因子負荷量](https://www.ouj.ac.jp/mijika/tokei/xml/k3_01006.xml)\n",
    "\n",
    "[numpy.sqrt，Numpy v1.22 Manual](https://numpy.org/doc/stable/reference/generated/numpy.sqrt.html)\n",
    "\n",
    "[主成分分析で標準偏差で割るべき？に対する議論，Qiita](https://qiita.com/koshian2/items/2e69cb4981ae8fbd3bda)"
   ]
  }
 ],
 "metadata": {
  "kernelspec": {
   "display_name": "Python 3 (ipykernel)",
   "language": "python",
   "name": "python3"
  },
  "language_info": {
   "codemirror_mode": {
    "name": "ipython",
    "version": 3
   },
   "file_extension": ".py",
   "mimetype": "text/x-python",
   "name": "python",
   "nbconvert_exporter": "python",
   "pygments_lexer": "ipython3",
   "version": "3.8.10"
  }
 },
 "nbformat": 4,
 "nbformat_minor": 5
}
