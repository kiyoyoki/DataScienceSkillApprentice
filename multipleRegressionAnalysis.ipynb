{
 "cells": [
  {
   "cell_type": "markdown",
   "id": "34768ada",
   "metadata": {},
   "source": [
    "# 重回帰分析において，偏回帰係数と標準回帰係数，重相関係数について理解する(2022/02/08)\n",
    "---\n",
    "\n",
    "## 概要\n",
    "---\n",
    "単回帰分析の一般化ともいえる重回帰分析について理解する．具体的にはタイトルにもあるように，偏回帰係数と標準回帰係数，重相関係数の3点について理解する．\n",
    "\n",
    "また，最後にPythonを用いた重回帰分析のシミュレーションを行う．"
   ]
  },
  {
   "cell_type": "markdown",
   "id": "81a445e5",
   "metadata": {},
   "source": [
    "## 重回帰分析\n",
    "---\n",
    "重回帰分析とは，重回帰モデルを作成して以下のような目的を達成するための分析手法の一つである．\n",
    "\n",
    "1. 関連する2つ以上の説明変数から，目的変数を予測する\n",
    "1. 説明変数の係数を見ることで，目的変数に強い相関を示す要素は何か分析する\n",
    "\n",
    "重回帰モデルは，以下のような式で表される．\n",
    "\n",
    "\\begin{eqnarray}\n",
    "y = \\beta_0 + \\beta_1x_1 + ... + \\beta_nx_n\n",
    "\\end{eqnarray}\n",
    "\n",
    "この式を見ると分かるように，単回帰分析では説明変数が一つのみであったが，重回帰分析では複数の説明変数を用いて目的変数の値を表現する．\n",
    "\n",
    "単回帰モデルでは回帰係数と呼んでいた係数部分$\\beta_i$は，重回帰モデルでは偏回帰係数と呼ぶ．偏回帰係数の大きさを見ることで，目的変数に強い影響を与える説明変数は何か分析することができる．ただし，説明変数のスケールによって偏回帰係数の大きさも異なるため，以下に示す標準化した標準回帰係数を用いることが多い．\n",
    "\n",
    "\\begin{eqnarray}\n",
    "(標準回帰係数) = (偏回帰係数) \\times \\frac{(説明変数の標準偏差)}{(目的変数の標準偏差)}\n",
    "\\end{eqnarray}\n",
    "\n",
    "また，偏回帰係数が目的変数に影響を与えているかどうか，統計的検定で判断することも頻繁に行われる．具体的にはt検定によって，帰無仮説$H_0:\\beta_i=0$を棄却できるかどうかを判定する．"
   ]
  },
  {
   "cell_type": "markdown",
   "id": "b2a23cea",
   "metadata": {},
   "source": [
    "## 重回帰モデルの評価\n",
    "---\n",
    "重回帰モデルの評価指標はいくつかある．本節ではそのうち重相関係数について調べた．\n",
    "\n",
    "重相関係数は，重回帰モデルの予測値と，データ点の値との相関係数のことである．つまり標本と予測との相関が高いほど良いモデルだと判断するため，重相関係数は1に近いほど良い．$R$として表現される．\n",
    "\n",
    "重相関係数の他に，単回帰モデルの評価でも用いた(自由度調整済み)決定係数，F値，AICなどを評価指標として用いることが多い．"
   ]
  },
  {
   "cell_type": "markdown",
   "id": "a357ceaa",
   "metadata": {},
   "source": [
    "## 重回帰分析の注意点\n",
    "---\n",
    "本節では，重回帰分析を行う際の注意点について述べる．\n",
    "\n",
    "### 1. 目的変数，説明変数は定量的なデータであるか\n",
    "重回帰分析では目的変数として連続値を取り扱う．つまり定量的なデータを用いる必要があるため，目的変数として「男女」のような定性的なデータ(名義尺度のデータ)を用いるのは適当ではない．\n",
    "\n",
    "説明変数においても同様で，できるだけ量的なデータを用いることが好ましい．ただ，ダミー変数と呼ばれるバイナリ値をとる変数を組み込むことで，定性的なデータにも対応することは可能である．\n",
    "\n",
    "### 2. 説明変数と目的変数は必ずしも因果関係にない\n",
    "---\n",
    "仮に標準回帰係数が非常に大きく，強い相関関係にあるような説明変数があったとしても，それは目的変数の原因に相当すると結論付けることはできない．\n",
    "\n",
    "### 3. 多重共線性\n",
    "重回帰分析では，複数ある説明変数は互いに独立したものであるという仮定がある．ある説明変数同士に強い相関が認められる場合，片方の説明変数が過小に評価されるなどして満足な分析が行えない可能性がある．\n",
    "\n",
    "したがって説明変数同士で相関のあることが事前にわかっている場合は，片方を取り除く等の工夫が必要になる．"
   ]
  },
  {
   "cell_type": "markdown",
   "id": "b3598da6",
   "metadata": {},
   "source": [
    "## Pythonを用いたシミュレーション\n",
    "---\n",
    "重回帰分析を行う場合はRやExcelなどいろいろな選択肢がある．今回は，Pythonを用いた重回帰分析のシミュレーションを行う．\n",
    "\n",
    "分析にはscikit-learnとIris datasetを用いた．"
   ]
  },
  {
   "cell_type": "code",
   "execution_count": 1,
   "id": "8068c6bc",
   "metadata": {},
   "outputs": [
    {
     "data": {
      "text/plain": [
       "array([[5.1, 3.5, 1.4, 0.2],\n",
       "       [4.9, 3. , 1.4, 0.2],\n",
       "       [4.7, 3.2, 1.3, 0.2],\n",
       "       [4.6, 3.1, 1.5, 0.2],\n",
       "       [5. , 3.6, 1.4, 0.2],\n",
       "       [5.4, 3.9, 1.7, 0.4],\n",
       "       [4.6, 3.4, 1.4, 0.3],\n",
       "       [5. , 3.4, 1.5, 0.2],\n",
       "       [4.4, 2.9, 1.4, 0.2],\n",
       "       [4.9, 3.1, 1.5, 0.1]])"
      ]
     },
     "execution_count": 1,
     "metadata": {},
     "output_type": "execute_result"
    }
   ],
   "source": [
    "# Iris datasetの読み込み\n",
    "# scikit-learn上でも用意されている\n",
    "from sklearn import datasets\n",
    "\n",
    "iris = datasets.load_iris()\n",
    "\n",
    "# Iris setosaのデータだけ取ってくる\n",
    "iris_setosa = iris.data[iris.target==0.0]\n",
    "iris_setosa[:10]"
   ]
  },
  {
   "cell_type": "code",
   "execution_count": 2,
   "id": "55f78341",
   "metadata": {},
   "outputs": [
    {
     "data": {
      "text/plain": [
       "0.5751375488433721"
      ]
     },
     "execution_count": 2,
     "metadata": {},
     "output_type": "execute_result"
    }
   ],
   "source": [
    "# 今回は最初の要素(sepal-length)を目的変数として重回帰モデルを作る\n",
    "from sklearn.linear_model import LinearRegression\n",
    "\n",
    "iris_setosa_X = iris_setosa[:,1:]\n",
    "iris_setosa_y = iris_setosa[:,0]\n",
    "\n",
    "iris_setosa_reg = LinearRegression().fit(iris_setosa_X, iris_setosa_y)\n",
    "\n",
    "# 決定係数R^2\n",
    "iris_setosa_reg.score(iris_setosa_X, iris_setosa_y)"
   ]
  },
  {
   "cell_type": "code",
   "execution_count": 3,
   "id": "761fa57d",
   "metadata": {},
   "outputs": [
    {
     "data": {
      "text/plain": [
       "array([0.65483497, 0.23756017, 0.25212568])"
      ]
     },
     "execution_count": 3,
     "metadata": {},
     "output_type": "execute_result"
    }
   ],
   "source": [
    "# 偏回帰係数\n",
    "iris_setosa_reg.coef_"
   ]
  },
  {
   "cell_type": "code",
   "execution_count": 4,
   "id": "5f898b93",
   "metadata": {},
   "outputs": [
    {
     "data": {
      "text/plain": [
       "2.3518898400139014"
      ]
     },
     "execution_count": 4,
     "metadata": {},
     "output_type": "execute_result"
    }
   ],
   "source": [
    "# 切片項\n",
    "iris_setosa_reg.intercept_"
   ]
  },
  {
   "cell_type": "markdown",
   "id": "4a0dfd01",
   "metadata": {},
   "source": [
    "公式ドキュメントを見たところ，scikit-learnの回帰モデルではF値やp値などの統計量を求めるメソッドは実装されていないようだった．(見逃しているだけかも?)\n",
    "\n",
    "RやExcelを使えば，分散分析表などと共に一覧できるため，そちらの方が適当かもしれない．"
   ]
  },
  {
   "cell_type": "markdown",
   "id": "1349e298",
   "metadata": {},
   "source": [
    "## 参考文献\n",
    "---\n",
    "\n",
    "[重回帰分析，Wikipedia](https://ja.wikipedia.org/wiki/%E9%87%8D%E5%9B%9E%E5%B8%B0%E5%88%86%E6%9E%90)\n",
    "\n",
    "[27-2. 重回帰分析，統計WEB](https://bellcurve.jp/statistics/course/9702.html)\n",
    "\n",
    "[重回帰分析とは？初心者向けにわかりやすく解説，DATA VIZ LAB](https://data-viz-lab.com/multiple-regression-analysis)\n",
    "\n",
    "[重回帰分析とは？ビジネスでの活用シーンや方法・注意点を解説，GMO RESERCH](https://gmo-research.jp/research-column/multiple-regression-analysis)\n",
    "\n",
    "[27-4. 決定係数と重相関係数，統計WEB](https://bellcurve.jp/statistics/course/9706.html)\n",
    "\n",
    "[sklearn.linear_model.LinearRegression，scikit-learn 1.0.2 documentation](https://scikit-learn.org/stable/modules/generated/sklearn.linear_model.LinearRegression.html#sklearn.linear_model.LinearRegression.score)\n",
    "\n",
    "[The Iris Dataset，scikit-learn 1.0.2 documentation](https://scikit-learn.org/stable/auto_examples/datasets/plot_iris_dataset.html)\n",
    "\n",
    "[Iris flower data set，Wikipedia](https://en.wikipedia.org/wiki/Iris_flower_data_set)"
   ]
  }
 ],
 "metadata": {
  "kernelspec": {
   "display_name": "Python 3 (ipykernel)",
   "language": "python",
   "name": "python3"
  },
  "language_info": {
   "codemirror_mode": {
    "name": "ipython",
    "version": 3
   },
   "file_extension": ".py",
   "mimetype": "text/x-python",
   "name": "python",
   "nbconvert_exporter": "python",
   "pygments_lexer": "ipython3",
   "version": "3.8.10"
  }
 },
 "nbformat": 4,
 "nbformat_minor": 5
}
