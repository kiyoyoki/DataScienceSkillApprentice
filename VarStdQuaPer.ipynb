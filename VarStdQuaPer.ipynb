{
 "cells": [
  {
   "cell_type": "markdown",
   "id": "7b4097f9",
   "metadata": {},
   "source": [
    "# 分散，標準偏差，四分位，パーセンタイルについて理解する(2022/01/07)\n",
    "---\n",
    "## 概要\n",
    "---\n",
    "タイトルにある4つの統計量について，それぞれの性質を調べ，Pythonの実装を行った．\n",
    "各統計量の概説は以下\n",
    "\n",
    "| 名称(英語表記) | よく使われる記号 | 概説 |\n",
    "| :--- | :---: | ---: |\n",
    "| 分散(variance) | $\\sigma^2$(母集団), $s^2$(標本) | データの「ばらつき」を表す |\n",
    "| 標準偏差(standard deviation) | $\\sigma$(母集団), $s$(標本) | データの「ばらつき」を表す |\n",
    "| 四分位(quartile) | $Q_1, Q_2, Q_3$ | データを4等分したときの「境目」 |\n",
    "| パーセンタイル(percentile) |  | パーセントの比で分けたときの「境目」(四分位の一般化) |\n",
    "\n",
    "\n",
    "## 分散\n",
    "---\n",
    "分散はその名の通り，「データがどれだけ散らばっているか」を定量的に表せる統計量である．具体的にはデータの平均値を基準として，どれだけデータの値が基準から離れているかを表している．$n$個のデータからなる特徴量の集合を${x_1, x_2, x_3, ...,x_n}$とするとき，(標本)分散は以下のように定義される：\n",
    "\n",
    "$$\n",
    "s^2 = \\frac{1}{n}\\sum^{n}_{i=1}(x_i-\\bar{x})^2\n",
    "$$\n",
    "\n",
    "$\\bar{x}$は標本平均であり，$\\bar{x} = \\frac{1}{n}\\sum^{n}_{i=1}x_i$で与えられる．\n",
    "\n",
    "定義を見ると分かるように，$(x_i-\\bar{x})$の部分で中心化している．言い換えると，それぞれのデータ点の平均からの差を計算していることになる．つまり偏差を計算している．\n",
    "\n",
    "これをなぜ$(x_i-\\bar{x})^2$のように二乗しているのかというと，理由の一つは偏差の和がゼロになってしまうからである．どんなデータを持ってきても偏差の和はゼロになってしまうので，意味がなくなる．この理由で言うと「なら，絶対値の和でも良いのでは？」ということも考えられる．実際，$|x_i-\\bar{x}|$として期待値計算を行っても，平均値からのバラツキを表現することができる．ただし，絶対値への変換は計算コストが高くつくため，二乗を用いているらしい．\n",
    "\n",
    "また，「なぜデータ点の数$n$で割っているのか？」という疑問も浮かぶ．これはデータセットの構造によらない値を算出するためらしい．例えば仮に，データの個数が10のデータセットと，10000のデータセットの分散を計算することを考える．このとき$n$で割らなければ，10000個のデータからなる標本分散の方が値が大きくなることは容易に想像できる．\n",
    "\n",
    "### 不偏分散との関連について\n",
    "---\n",
    "分散と似た概念として不偏分散というものがある．先に定義を以下に示す：\n",
    "\n",
    "$$\n",
    "S^2 =  \\frac{1}{n-1}\\sum^{n}_{i=1}(x_i-\\bar{x})^2\n",
    "$$\n",
    "\n",
    "先ほどの(標本)分散の定義と比較すると分かるが，異なるのは期待値計算に相当する$n$の除算が$n-1$になっていることのみである．これによって求められる値も少し大きいものに補正される．不偏分散の期待値は母分散に一致する．\n",
    "\n",
    "なぜこのような操作をしているのかと言うと，標本分散は母分散と比較すると小さい値が出る傾向にあるからである．つまり，十分な大きさのデータセット(標本)が手に入っていない状態で計算される(標本)分散は，背後にある母集団の(母)分散より小さな値になる．これを補正し，母集団の分散を標本から推定するために不偏分散は用いられる．\n",
    "\n",
    "なお，それぞれの分散の定義を見ればわかるように，データ数$n$が十分に大きい場合は，$-1$の効果が小さくなって両者の値は近づいていく．\n",
    "\n",
    "この後のPythonを用いたシミュレーションで，標本分散と不偏分散の違いも比較していく．\n",
    "\n",
    "### Numpyを用いたシミュレーション\n",
    "---"
   ]
  },
  {
   "cell_type": "code",
   "execution_count": 1,
   "id": "e66261f6",
   "metadata": {},
   "outputs": [
    {
     "data": {
      "text/plain": [
       "<seaborn.axisgrid.FacetGrid at 0x7fb1d75edfd0>"
      ]
     },
     "execution_count": 1,
     "metadata": {},
     "output_type": "execute_result"
    },
    {
     "data": {
      "image/png": "[encoded data removed]",
      "text/plain": [
       "<Figure size 360x360 with 1 Axes>"
      ]
     },
     "metadata": {
      "needs_background": "light"
     },
     "output_type": "display_data"
    }
   ],
   "source": [
    "# この後の検証のために，ガウス分布から乱数生成して予め母分散が分かるようにしておく\n",
    "import numpy as np\n",
    "import seaborn as sns\n",
    "\n",
    "np.random.seed(0)\n",
    "datasets  = np.random.normal(50, 10, (1000))\n",
    "\n",
    "sns.displot(datasets, bins=10)"
   ]
  },
  {
   "cell_type": "code",
   "execution_count": 2,
   "id": "42c9fcc6",
   "metadata": {},
   "outputs": [
    {
     "data": {
      "text/plain": [
       "97.42344563121543"
      ]
     },
     "execution_count": 2,
     "metadata": {},
     "output_type": "execute_result"
    }
   ],
   "source": [
    "# 標本分散\n",
    "np.var(datasets)"
   ]
  },
  {
   "cell_type": "code",
   "execution_count": 3,
   "id": "18148e6e",
   "metadata": {},
   "outputs": [
    {
     "data": {
      "text/plain": [
       "97.52096659781326"
      ]
     },
     "execution_count": 3,
     "metadata": {},
     "output_type": "execute_result"
    }
   ],
   "source": [
    "# 不偏分散(こちらの方が母分散100に近い値)\n",
    "np.var(datasets, ddof=1)"
   ]
  },
  {
   "cell_type": "code",
   "execution_count": 4,
   "id": "a691f9e9",
   "metadata": {},
   "outputs": [
    {
     "data": {
      "text/plain": [
       "<seaborn.axisgrid.FacetGrid at 0x7fb18815efa0>"
      ]
     },
     "execution_count": 4,
     "metadata": {},
     "output_type": "execute_result"
    },
    {
     "data": {
      "image/png": "[encoded data removed]",
      "text/plain": [
       "<Figure size 360x360 with 1 Axes>"
      ]
     },
     "metadata": {
      "needs_background": "light"
     },
     "output_type": "display_data"
    }
   ],
   "source": [
    "# 母分散の異なる別のデータでも試す\n",
    "datasets  = np.random.normal(50, 100, (1000))\n",
    "\n",
    "sns.displot(datasets, bins=10)"
   ]
  },
  {
   "cell_type": "code",
   "execution_count": 5,
   "id": "9488e6d4",
   "metadata": {},
   "outputs": [
    {
     "data": {
      "text/plain": [
       "9373.337542827796"
      ]
     },
     "execution_count": 5,
     "metadata": {},
     "output_type": "execute_result"
    }
   ],
   "source": [
    "# 標本分散\n",
    "np.var(datasets)"
   ]
  },
  {
   "cell_type": "code",
   "execution_count": 6,
   "id": "2f364a1f",
   "metadata": {},
   "outputs": [
    {
     "data": {
      "text/plain": [
       "9382.720263090887"
      ]
     },
     "execution_count": 6,
     "metadata": {},
     "output_type": "execute_result"
    }
   ],
   "source": [
    "# 不偏分散\n",
    "np.var(datasets, ddof=1)"
   ]
  },
  {
   "cell_type": "markdown",
   "id": "d69497e3",
   "metadata": {},
   "source": [
    "## 標準偏差\n",
    "---\n",
    "標準偏差は先述の分散の平方根，すなわち$s$で表される統計量である．分散と同様にデータのバラツキ具合を表す．母集団の標準偏差の場合には$\\sigma$と表されることが多い．\n",
    "\n",
    "標準偏差の解釈の一つは「平均値からの差(偏差)が，平均的にどのくらいなのか表したもの」である．平方根をを取ることで，元のデータとの単位が同じものになるため，理解しやすいというメリットがある．\n",
    "\n",
    "また，データの値が正規分布に従う場合，標準偏差(とその倍数)は特別な意味を持つ．例えば，平均0の正規分布において確率変数の値が$0\\pm\\sigma$の範囲に収まる確率は68.2%であり，$0\\pm2\\sigma$の範囲に収まる確率は95.4%である．\n",
    "\n",
    "### 不偏標準偏差\n",
    "不偏標準偏差は不偏分散の平方根である．ただ，どの統計量を不偏標準偏差とみなすか，人によって主張が異なる．というのも，冒頭の定義では母標準偏差の不偏推定量になっていないからである．母分散の不偏推定量である不偏分散の平方根を取ったからといって，それが母標準偏差の不偏推定量になるわけではない．母標準偏差の不偏推定量を不偏標準偏差と呼ぶ場合もある．\n",
    "\n",
    "### 偏差値\n",
    "### 変動係数\n",
    "### Numpyを用いたシミュレーション"
   ]
  },
  {
   "cell_type": "markdown",
   "id": "89b8fd22",
   "metadata": {},
   "source": [
    "## 四分位\n",
    "---\n",
    "## パーセンタイル\n",
    "---"
   ]
  },
  {
   "cell_type": "markdown",
   "id": "a594f855",
   "metadata": {},
   "source": [
    "## 参考文献\n",
    "---\n",
    "\n",
    "[分散, 日経リサーチ](https://www.nikkei-r.co.jp/glossary/id=1657)\n",
    "\n",
    "[分散(統計学), Wikipedia](https://ja.wikipedia.org/wiki/%E5%88%86%E6%95%A3_(%E7%B5%B1%E8%A8%88%E5%AD%A6))\n",
    "\n",
    "[6-1.分散, 統計WEB](https://bellcurve.jp/statistics/course/5919.html)\n",
    "\n",
    "[統計学における分散とは？不偏分散との違いも！ 例題でわかりやすく解説, AVILEN AI Trend](https://ai-trend.jp/basic-study/basic/variance/)\n",
    "\n",
    "[分散（Variance）／標準偏差（SD：Standard Deviation）とは？, ITMedia](https://atmarkit.itmedia.co.jp/ait/articles/2109/22/news035.html)\n",
    "\n",
    "[numpy.random.normal, SciPy.org](https://docs.scipy.org/doc/numpy-1.12.0/reference/generated/numpy.random.normal.html#numpy.random.normal)\n",
    "\n",
    "[seaborn.diaplot, seaborn](https://seaborn.pydata.org/generated/seaborn.displot.html?highlight=displot#seaborn.displot)\n",
    "\n",
    "[numpy.var, NumPy](https://numpy.org/doc/stable/reference/generated/numpy.var.html)\n",
    "\n",
    "[標準偏差, Wikipedia](https://ja.wikipedia.org/wiki/%E6%A8%99%E6%BA%96%E5%81%8F%E5%B7%AE)\n",
    "\n",
    "[標準偏差とは？意味から求め方、分散との違いまでわかりやすく解説, DATA VIZ LAB](https://data-viz-lab.com/standarddeviation)"
   ]
  },
  {
   "cell_type": "code",
   "execution_count": null,
   "id": "4613797e",
   "metadata": {},
   "outputs": [],
   "source": []
  }
 ],
 "metadata": {
  "kernelspec": {
   "display_name": "Python 3 (ipykernel)",
   "language": "python",
   "name": "python3"
  },
  "language_info": {
   "codemirror_mode": {
    "name": "ipython",
    "version": 3
   },
   "file_extension": ".py",
   "mimetype": "text/x-python",
   "name": "python",
   "nbconvert_exporter": "python",
   "pygments_lexer": "ipython3",
   "version": "3.8.10"
  }
 },
 "nbformat": 4,
 "nbformat_minor": 5
}
