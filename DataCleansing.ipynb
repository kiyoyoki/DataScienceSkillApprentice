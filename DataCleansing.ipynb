{
 "cells": [
  {
   "cell_type": "markdown",
   "id": "f13c3fae",
   "metadata": {},
   "source": [
    "# 外れ値・異常値・欠損値とは何かを理解し，検出と除去，変換等の対応をする(2022/03/15)\n",
    "---\n",
    "\n",
    "## 概要\n",
    "---\n",
    "\n",
    "本notebookでは，外れ値・異常値・欠損値の三種を理解し，それぞれを実際にどのように取り扱うかを学ぶ．シミュレーションでは，pandasを用いたデータクレンジングの方法について実践する．"
   ]
  },
  {
   "cell_type": "markdown",
   "id": "08be462a",
   "metadata": {},
   "source": [
    "## 外れ値・異常値(outlier)\n",
    "---\n",
    "\n",
    "外れ値とは，採取したデータ群の中で極端に大きい(小さい)値をとっていること，あるいは当該標本のことを表す．原因としてデータの測定ミスや入力ミス等原因が明らかな場合，異常値と呼ばれ区別されるが，現実問題として両社が明確に分けて考えられるものではない．\n",
    "\n",
    "何を根拠として外れ値か否かを判断するのか，これから記す様々な手法が提案されている．ただし共通している考え方としてあるのは「外れ値だと判断したデータをとりあえず取り除くことはあってはならない」という考え方である．異常値のように，原因が明確で当該データを取り除くという場合であっても，実験手順や測定方法に不十分な点がないかを吟味する必要がある．\n",
    "\n",
    "外れ値だと判定した場合に機械的にそれを除去して統計検定を行うのではなく，根本的に「なぜ外れ値が発生したのか」という視点がデータ解析において重要である．"
   ]
  },
  {
   "cell_type": "markdown",
   "id": "4a85dc1e",
   "metadata": {},
   "source": [
    "## 外れ値を客観的に判定する\n",
    "---\n",
    "\n",
    "本節では測定者の主観に寄らず，データが外れ値か否かを判定する手法について述べる．繰り返すが，重要なのは機械的に外れ値が判定できるということではなく，外れ値だと判定されたデータがなぜ出現したかを考えることである．\n",
    "\n",
    "以下に示す定量的な4つの方法以外にも，散布図を作成するなどして直感的に外れ値の存在を把握することができる．\n",
    "\n",
    "### 箱ひげ図を用いる方法\n",
    "\n",
    "### 標本標準偏差を用いる方法\n",
    "\n",
    "### スミルノフ・グラブ素検定\n",
    "\n",
    "### トンプソン検定"
   ]
  },
  {
   "cell_type": "markdown",
   "id": "16969558",
   "metadata": {},
   "source": [
    "## 参考文献\n",
    "---\n",
    "\n",
    "[32-1. 外れ値，統計WEB](https://bellcurve.jp/statistics/course/12929.html#:~:text=%E5%A4%96%E3%82%8C%E5%80%A4%E3%81%A8%E3%81%AF%E3%80%81%E5%BE%97,%E3%81%8C%E7%95%B0%E5%B8%B8%E5%80%A4%E3%81%A8%E3%81%AA%E3%82%8A%E3%81%BE%E3%81%99%E3%80%82)\n",
    "\n",
    "[外れ値，Wikipedia](https://ja.wikipedia.org/wiki/%E5%A4%96%E3%82%8C%E5%80%A4)\n",
    "\n",
    "[外れ値と判定する方法と、外れ値の除去について，統計学がわかった！](https://toukeigaku-jouhou.info/2018/04/25/determine-outlier/)\n",
    "\n",
    "[外れ値とはどんな定義で求め方は？統計的検定で除外するのがいいの？，いちばんやさしい、医療統計](https://best-biostatistics.com/summary/outlier.html)\n",
    "\n",
    "[統計一口メモ　第12話 「外れ値をかってに外してはいけないって言われるけど」，安全性評価研究会](https://tanigaku.jp/wp/?p=3158)\n",
    "\n",
    "[外れ値　outlier，一般社団法人　日本理学療法学会連合](http://jspt.japanpt.or.jp/ebpt_glossary/outlier.html)"
   ]
  },
  {
   "cell_type": "code",
   "execution_count": null,
   "id": "3e21af85",
   "metadata": {},
   "outputs": [],
   "source": []
  }
 ],
 "metadata": {
  "kernelspec": {
   "display_name": "Python 3 (ipykernel)",
   "language": "python",
   "name": "python3"
  },
  "language_info": {
   "codemirror_mode": {
    "name": "ipython",
    "version": 3
   },
   "file_extension": ".py",
   "mimetype": "text/x-python",
   "name": "python",
   "nbconvert_exporter": "python",
   "pygments_lexer": "ipython3",
   "version": "3.8.10"
  }
 },
 "nbformat": 4,
 "nbformat_minor": 5
}
